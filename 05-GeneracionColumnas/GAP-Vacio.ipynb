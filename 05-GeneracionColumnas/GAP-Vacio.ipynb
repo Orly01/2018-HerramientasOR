{
 "cells": [
  {
   "cell_type": "markdown",
   "metadata": {},
   "source": [
    "# Generalized Assignment Problem\n",
    "Un conjunto de $n$ trabajos deben realizarse por $m$ máquinas, que son distintas entre si.\n",
    "\n",
    "Si realizo el trabajo $i$ en la maquina $j$, este va a requerir un tiempo $d_{ij}$ (``duracion[i,j]``) para realizarse, y obtendrá un beneficio $b_{ij}$ (``beneficio[i,j]``) por realizarse, para todo $i=1\\ldots n, j=1\\ldots m$ \n",
    "\n",
    "Cada máquina tiene una cantidad fija de tiempo disponible para realizar trabajos $c_j$ (``disponible[j]``) para todo $j=1\\ldots m$.\n",
    "\n",
    "El objetivo del problema es decidir que trabajos realizar, y en que máquina realizarlos, de forma de maxímizar el beneficio obtenido sin violar la duración máxima de cada máquina."
   ]
  },
  {
   "cell_type": "markdown",
   "metadata": {},
   "source": [
    "**Veamos primero los datos:**"
   ]
  },
  {
   "cell_type": "code",
   "execution_count": null,
   "metadata": {},
   "outputs": [],
   "source": [
    "#Numero de trabajos\n",
    "n = 50\n",
    "#Número de maquinas\n",
    "m = 5"
   ]
  },
  {
   "cell_type": "code",
   "execution_count": null,
   "metadata": {},
   "outputs": [],
   "source": [
    "# Duracion de cada trabajo en cada maquina\n",
    "duracion = rand(n,m)*9+1\n",
    "# beneficio por procesar cada trabajo en cada maquina\n",
    "beneficio = randexp(n,m)\n",
    "# Tiempo disponible de cada maquina\n",
    "disponible = rand(m) * n/m * 10 * 0.5"
   ]
  },
  {
   "cell_type": "markdown",
   "metadata": {},
   "source": [
    "El modelo más clásico es formular usando una variable binaria $z_{ij}$ si el trabajo $i$ se asigna a la máquina $j$. De esta forma el problema puede ser modelado como:\n",
    "$$\n",
    "\\begin{align}\n",
    "\\max \\sum_{i=1}^n \\sum_{j=1}^m b_{ij} z_{ij}&\\\\\n",
    "\\sum_{j=1}^m z_{ij} \\leq 1&\\quad i=1\\ldots n\\\\\n",
    "\\sum_{i=1}^n d_{ij} z_{ij} \\leq c_j&\\quad j=1\\ldots m\\\\\n",
    "z_{ij} \\in\\{0,1\\} &\\quad i=1\\ldots n, j=1\\ldots m\\\\\n",
    "\\end{align}\n",
    "$$\n",
    "donde el objetivo es maximizar el beneficio, la primera restricción asegura que cada trabajo se realiza a lo mas una vez, y la segunda restricción asegura que la duración total de las tareas asignadas a cada máquina no excede su capacidad."
   ]
  },
  {
   "cell_type": "markdown",
   "metadata": {},
   "source": [
    "El problema puede ser formulado en JuMP de la siguiente forma:"
   ]
  },
  {
   "cell_type": "code",
   "execution_count": null,
   "metadata": {},
   "outputs": [],
   "source": [
    "using JuMP\n",
    "using Clp \n",
    "using Cbc"
   ]
  },
  {
   "cell_type": "code",
   "execution_count": null,
   "metadata": {
    "scrolled": true
   },
   "outputs": [],
   "source": [
    "model = Model(solver=CbcSolver())\n",
    "@variable(model, z[1:n,1:m] >= 0, Bin)\n",
    "for i=1:n\n",
    "    @constraint(model, sum(z[i,j] for j=1:m) <= 1) \n",
    "end\n",
    "for j=1:m\n",
    "    @constraint(model, sum(duracion[i,j]*z[i,j] for i=1:n) <= disponible[j]) \n",
    "end\n",
    "@objective(model, Max, sum(z[i,j]*beneficio[i,j] for i=1:n for j=1:m));"
   ]
  },
  {
   "cell_type": "code",
   "execution_count": null,
   "metadata": {},
   "outputs": [],
   "source": [
    "solve(model)"
   ]
  },
  {
   "cell_type": "code",
   "execution_count": null,
   "metadata": {},
   "outputs": [],
   "source": [
    "epsilon = 1e-6\n",
    "sol=getvalue(z)\n",
    "for i =1:n\n",
    "    for j=1:m\n",
    "        if sol[i,j] > epsilon\n",
    "            println(\"Trabajo \",i,\" asignado a maquina \",j)\n",
    "        end\n",
    "    end\n",
    "end \n",
    "println(\"Objetivo es: \", getobjectivevalue(model))"
   ]
  },
  {
   "cell_type": "markdown",
   "metadata": {},
   "source": [
    "# Formulación Alternativa\n",
    "Otra forma de resolver este problema es suponiendo que tenemos un conjunto $\\mathcal{C}_m$ con todas las posibles combinaciones de trabajos que tienen una duración total válida para la máquina $m$. En ese caso, el problema _maestro_ se podría escribir como:\n",
    "$$\n",
    "\\begin{align}\n",
    "\\max \\sum_{j=1}^m \\sum_{k\\in\\mathcal{C}_j} p_{k} x_{kj}&\\\\\n",
    "\\sum_{j=1}^m \\sum_{k\\in\\mathcal{C}_j}a_{ki} x_{kj} \\leq 1&\\quad i=1\\ldots n\\\\\n",
    "\\sum_{k\\in\\mathcal{C}_j}  x_{kj} = 1&\\quad j=1\\ldots m\\\\\n",
    "x_{kj} \\in\\{0,1\\} &\\quad k\\in\\mathcal{C}_j, j=1\\ldots m\\\\\n",
    "\\end{align}\n",
    "$$\n",
    "donde $p_{kj}$ es el beneficio total de asignar la combinación $k$ en la maquina $j$, y \n",
    "$$\n",
    "a_{ki} = \\begin{cases} 1 & \\text{ si $i$ está incluido en la combinación $k$} \\\\ 0 & \\text {si no} \\end{cases}\n",
    "$$\n",
    "El modelo maximiza el beneficio total asignado, con las restricciones de que cada trabajo $i$ queda asignado a una máquina, y que cada máquina $j$ tiene exactamente una combinación asignada."
   ]
  },
  {
   "cell_type": "markdown",
   "metadata": {},
   "source": [
    "Como obviamente el número de variables es muy grande, podemos usar generación es columnas. Es decir, partimos con un número limitado de variables (por ejemplo, una sola combinación con $a_{1i}=0\\ \\forall i,j)$, y las vamos agregando en la medida que las necesitemos. Para determinar si es necesario agregar una nueva variable, obtenemos los duales $\\pi_i$ y $\\mu_j$ del primer y segundo grupo de restricciones respectivamente. De esta forma, podemos encontrar la combinación de mayor costo reducido resolviendo un problema *Pricing* para cada máquina $j=1\\ldots m$, resolviendo el problema:\n",
    "$$\n",
    "\\begin{align}\n",
    "\\max \\sum_{i=1}^n (b_{ij} - \\pi_i) y_{i}&\\\\\n",
    "\\sum_{i=1}^n d_{ij} y_{i} \\leq c_j\\\\\n",
    "y_{i} \\in\\{0,1\\} &\\quad i=1\\ldots n\\\n",
    "\\end{align}\n",
    "$$\n",
    "y si el valor de objetivo de este problema es mayor a $\\mu_j$, se agrega esa variable como una combinación posible para la maquina $j$."
   ]
  },
  {
   "cell_type": "markdown",
   "metadata": {},
   "source": [
    "## Parte 1 : Master\n",
    "Formule el problema _master_, a partir de un conjunto de combinaciones dado. Resuelva el problema y recupere los duales de cada restricción. Recuerde que debe usar `ClpSolver()` para poder recuperar los duales del problema."
   ]
  },
  {
   "cell_type": "code",
   "execution_count": null,
   "metadata": {},
   "outputs": [],
   "source": [
    "combinaciones=[]\n",
    "push!(combinaciones,zeros(n))"
   ]
  },
  {
   "cell_type": "code",
   "execution_count": null,
   "metadata": {},
   "outputs": [],
   "source": []
  },
  {
   "cell_type": "markdown",
   "metadata": {},
   "source": [
    "## Parte 2: Pricing\n",
    "Formule el problema _pricing_ usando los duales obtenido en el problema _master_."
   ]
  },
  {
   "cell_type": "code",
   "execution_count": null,
   "metadata": {},
   "outputs": [],
   "source": []
  },
  {
   "cell_type": "markdown",
   "metadata": {},
   "source": [
    "## Parte 3 : Generación de Columnas\n",
    "Incorpore el problema _master_ y _pricing_ en un loop, de forma de generar todas las columnas que sean necesarias para llegar al óptimo del problema."
   ]
  },
  {
   "cell_type": "code",
   "execution_count": null,
   "metadata": {},
   "outputs": [],
   "source": []
  },
  {
   "cell_type": "markdown",
   "metadata": {},
   "source": [
    "### Nota teórica:\n",
    "Si todo es correcto, debería obtener el mismo valor objetivo que en la formulación inicial. Esto es porque el problema _master_ tiene vértices enteros, por lo que aun si estamos resolviendo una relajación lineal, la solución es entera!"
   ]
  },
  {
   "cell_type": "markdown",
   "metadata": {},
   "source": [
    "## Parte 4 ¿Es mejor Generación de Columnas o la formulación inicial?\n",
    "Verifique remplazando los números iniciales de trabajos $n$ y de máquinas $m$, por otros mas grandes para ver si generación de columnas es igual, peor o similar a la formulación inicial. \n",
    "Responda sus hallazgos en la siguiente ventana."
   ]
  },
  {
   "cell_type": "markdown",
   "metadata": {},
   "source": []
  }
 ],
 "metadata": {
  "kernelspec": {
   "display_name": "Julia 0.6.2",
   "language": "julia",
   "name": "julia-0.6"
  },
  "language_info": {
   "file_extension": ".jl",
   "mimetype": "application/julia",
   "name": "julia",
   "version": "0.6.2"
  }
 },
 "nbformat": 4,
 "nbformat_minor": 2
}
