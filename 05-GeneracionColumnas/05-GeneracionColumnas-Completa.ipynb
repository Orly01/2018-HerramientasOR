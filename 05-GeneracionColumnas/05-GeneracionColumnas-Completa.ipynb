{
 "cells": [
  {
   "cell_type": "markdown",
   "metadata": {
    "slideshow": {
     "slide_type": "slide"
    }
   },
   "source": [
    "# Cutting Stock "
   ]
  },
  {
   "cell_type": "markdown",
   "metadata": {
    "slideshow": {
     "slide_type": "slide"
    }
   },
   "source": [
    "Cada rollo de paple tiene un ancho de 100\n",
    "\n",
    "Ancho / Demanda:\n",
    "\n",
    "- 14 / 211\n",
    "- 31 / 395\n",
    "- 36 / 610\n",
    "- 45 / 97\n",
    "\n",
    "¿Cómo cortar cada rollo de paper para que el número de rollos originales usados sea el menor posible?\n"
   ]
  },
  {
   "cell_type": "markdown",
   "metadata": {},
   "source": [
    "### Veamos como formularlo en Jump\n",
    "**OJO: En este módulo usaremos modelos enteros (que se resuelven con ``Cbc``) y continuos (que se resuelven con ``Clp``)**"
   ]
  },
  {
   "cell_type": "code",
   "execution_count": 1,
   "metadata": {},
   "outputs": [],
   "source": [
    "using JuMP\n",
    "using Clp \n",
    "using Cbc\n"
   ]
  },
  {
   "cell_type": "markdown",
   "metadata": {},
   "source": [
    "Datos del problema (de juguete. Despues probaremos con los correctos):"
   ]
  },
  {
   "cell_type": "code",
   "execution_count": 2,
   "metadata": {},
   "outputs": [
    {
     "data": {
      "text/plain": [
       "4-element Array{Int64,1}:\n",
       " 2\n",
       " 4\n",
       " 6\n",
       " 1"
      ]
     },
     "execution_count": 2,
     "metadata": {},
     "output_type": "execute_result"
    }
   ],
   "source": [
    "#anchos\n",
    "w=[14 31 36 45]\n",
    "requerimientos=[2; 4; 6; 1]\n"
   ]
  },
  {
   "cell_type": "markdown",
   "metadata": {},
   "source": [
    "## Ejercicio: Resolver el modelo con la formulación tradicional (usar Cbc para resolverlo)\n",
    "Recuerdo: Para definir una variable entera o binaria usamos:\n",
    "``` @variable(model, x, Int) ``` o ``` @variable(model, x, Bin) ```"
   ]
  },
  {
   "cell_type": "markdown",
   "metadata": {},
   "source": [
    "$$\n",
    "\\begin{align}\n",
    "\\min \\sum_{k\\in \\mathcal{K}} y_k& \\\\ \n",
    "\\sum_{k\\in \\mathcal{K}} x_{ik} &\\geq b_i \\quad \\forall i\\in I\\\\\n",
    "\\sum_{i\\in I} w_i x_{ik} &\\leq W y_k \\quad \\forall k\\in \\mathcal{K}\\\\\n",
    "x_{ik}\\in\\mathbb{N}&, y_k\\in \\{0,1\\}$$"
   ]
  },
  {
   "cell_type": "code",
   "execution_count": 3,
   "metadata": {},
   "outputs": [
    {
     "data": {
      "text/latex": [
       "$$ \\begin{alignat*}{1}\\min\\quad & y_{1} + y_{2} + y_{3} + y_{4} + y_{5} + y_{6} + y_{7} + y_{8} + y_{9} + y_{10} + y_{11} + y_{12} + y_{13}\\\\\n",
       "\\text{Subject to} \\quad & x_{1,1} + x_{1,2} + x_{1,3} + x_{1,4} + x_{1,5} + x_{1,6} + x_{1,7} + x_{1,8} + x_{1,9} + x_{1,10} + x_{1,11} + x_{1,12} + x_{1,13} \\geq 2\\\\\n",
       " & x_{2,1} + x_{2,2} + x_{2,3} + x_{2,4} + x_{2,5} + x_{2,6} + x_{2,7} + x_{2,8} + x_{2,9} + x_{2,10} + x_{2,11} + x_{2,12} + x_{2,13} \\geq 4\\\\\n",
       " & x_{3,1} + x_{3,2} + x_{3,3} + x_{3,4} + x_{3,5} + x_{3,6} + x_{3,7} + x_{3,8} + x_{3,9} + x_{3,10} + x_{3,11} + x_{3,12} + x_{3,13} \\geq 6\\\\\n",
       " & x_{4,1} + x_{4,2} + x_{4,3} + x_{4,4} + x_{4,5} + x_{4,6} + x_{4,7} + x_{4,8} + x_{4,9} + x_{4,10} + x_{4,11} + x_{4,12} + x_{4,13} \\geq 1\\\\\n",
       " & 14 x_{1,1} + 31 x_{2,1} + 36 x_{3,1} + 45 x_{4,1} - 100 y_{1} \\leq 0\\\\\n",
       " & 14 x_{1,2} + 31 x_{2,2} + 36 x_{3,2} + 45 x_{4,2} - 100 y_{2} \\leq 0\\\\\n",
       " & 14 x_{1,3} + 31 x_{2,3} + 36 x_{3,3} + 45 x_{4,3} - 100 y_{3} \\leq 0\\\\\n",
       " & 14 x_{1,4} + 31 x_{2,4} + 36 x_{3,4} + 45 x_{4,4} - 100 y_{4} \\leq 0\\\\\n",
       " & 14 x_{1,5} + 31 x_{2,5} + 36 x_{3,5} + 45 x_{4,5} - 100 y_{5} \\leq 0\\\\\n",
       " & 14 x_{1,6} + 31 x_{2,6} + 36 x_{3,6} + 45 x_{4,6} - 100 y_{6} \\leq 0\\\\\n",
       " & 14 x_{1,7} + 31 x_{2,7} + 36 x_{3,7} + 45 x_{4,7} - 100 y_{7} \\leq 0\\\\\n",
       " & 14 x_{1,8} + 31 x_{2,8} + 36 x_{3,8} + 45 x_{4,8} - 100 y_{8} \\leq 0\\\\\n",
       " & 14 x_{1,9} + 31 x_{2,9} + 36 x_{3,9} + 45 x_{4,9} - 100 y_{9} \\leq 0\\\\\n",
       " & 14 x_{1,10} + 31 x_{2,10} + 36 x_{3,10} + 45 x_{4,10} - 100 y_{10} \\leq 0\\\\\n",
       " & 14 x_{1,11} + 31 x_{2,11} + 36 x_{3,11} + 45 x_{4,11} - 100 y_{11} \\leq 0\\\\\n",
       " & 14 x_{1,12} + 31 x_{2,12} + 36 x_{3,12} + 45 x_{4,12} - 100 y_{12} \\leq 0\\\\\n",
       " & 14 x_{1,13} + 31 x_{2,13} + 36 x_{3,13} + 45 x_{4,13} - 100 y_{13} \\leq 0\\\\\n",
       " & x_{i,j} \\geq 0, \\in \\mathbb{Z}, \\quad\\forall i \\in \\{1,2,3,4\\}, j \\in \\{1,2,\\dots,12,13\\}\\\\\n",
       " & y_{i} \\in \\{0,1\\} \\quad\\forall i \\in \\{1,2,\\dots,12,13\\}\\\\\n",
       "\\end{alignat*}\n",
       " $$"
      ],
      "text/plain": [
       "Minimization problem with:\n",
       " * 17 linear constraints\n",
       " * 65 variables: 13 binary, 52 integer\n",
       "Solver is CbcMathProg"
      ]
     },
     "execution_count": 3,
     "metadata": {},
     "output_type": "execute_result"
    }
   ],
   "source": [
    "K=13\n",
    "model = Model(solver=CbcSolver())\n",
    "@variable(model, x[1:length(requerimientos),1:K] >= 0, Int)\n",
    "@variable(model, y[1:K], Bin)\n",
    "@objective(model, Min, sum(y[k] for k=1:K))\n",
    "for i=1:length(requerimientos)\n",
    "    @constraint(model, sum(x[i,k] for k=1:K) >= requerimientos[i])\n",
    "end\n",
    "for k=1:K\n",
    "    @constraint(model, sum(w[i]*x[i,k] for i=1:length(requerimientos)) <= 100 * y[k])\n",
    "end\n",
    "model\n",
    "\n",
    "\n"
   ]
  },
  {
   "cell_type": "code",
   "execution_count": 4,
   "metadata": {},
   "outputs": [
    {
     "name": "stdout",
     "output_type": "stream",
     "text": [
      "getobjectivevalue(model) = 5.0\n",
      "getvalue(x) = "
     ]
    },
    {
     "data": {
      "text/plain": [
       "4×13 Array{Float64,2}:\n",
       " 2.0  0.0  0.0  0.0  0.0  0.0  0.0  0.0  0.0  0.0  0.0  0.0  0.0\n",
       " 2.0  0.0  0.0  0.0  2.0  0.0  0.0  0.0  0.0  0.0  0.0  0.0  0.0\n",
       " 0.0  1.0  2.0  2.0  1.0  0.0  0.0  0.0  0.0  0.0  0.0  0.0  0.0\n",
       " 0.0  1.0  0.0  0.0  0.0  0.0  0.0  0.0  0.0  0.0  0.0  0.0  0.0"
      ]
     },
     "execution_count": 4,
     "metadata": {},
     "output_type": "execute_result"
    },
    {
     "name": "stdout",
     "output_type": "stream",
     "text": [
      "[2.0 0.0 0.0 0.0 0.0 0.0 0.0 0.0 0.0 0.0 0.0 0.0 0.0; 2.0 0.0 0.0 0.0 2.0 0.0 0.0 0.0 0.0 0.0 0.0 0.0 0.0; 0.0 1.0 2.0 2.0 1.0 0.0 0.0 0.0 0.0 0.0 0.0 0.0 0.0; 0.0 1.0 0.0 0.0 0.0 0.0 0.0 0.0 0.0 0.0 0.0 0.0 0.0]\n"
     ]
    }
   ],
   "source": [
    "solve(model)\n",
    "@show getobjectivevalue(model)\n",
    "@show getvalue(x)"
   ]
  },
  {
   "cell_type": "markdown",
   "metadata": {},
   "source": [
    "Inicializamos el ***\"problema master\"*** con solo 2 variables, de forma de tener una solución inicial:\n",
    "- ancho (14,31,36,45), cantidad (1,1,0,1), como $x_1$\n",
    "- ancho (14,31,36,45), cantidad (0,0,2,0), como $x_2$\n",
    "\n",
    "**\\[Recuerdo 1\\]** ¿Qué significa cada variable? _El número de rollos de papel que cortaremos con este patrón._\n",
    "\n",
    "**\\[Recuerdo 2\\]** Como se ve el problema master?\n",
    "\n",
    "$$\n",
    "\\begin{align}\n",
    "\\nonumber\\min\\qquad\\qquad\\quad &x_1+x_2 \\\\\n",
    "s.t.\\qquad\\left( \\begin{array}{c}\n",
    "1 \\\\\n",
    "1 \\\\\n",
    "0 \\\\\n",
    "1 \\end{array} \\right)&x_1+\\left( \\begin{array}{c}\n",
    "0 \\\\\n",
    "0 \\\\\n",
    "2 \\\\\n",
    "0 \\end{array} \\right)x_2 \\ge \\left( \\begin{array}{c}\n",
    "211 \\\\\n",
    "395 \\\\\n",
    "610 \\\\\n",
    "97 \\end{array} \\right) \\\\ \n",
    "&x_1,x_2\\ge0\n",
    "\\end{align}$$"
   ]
  },
  {
   "cell_type": "code",
   "execution_count": 2,
   "metadata": {},
   "outputs": [
    {
     "data": {
      "text/plain": [
       "2-element Array{Array{Int64,1},1}:\n",
       " [1, 1, 0, 1]\n",
       " [0, 0, 2, 0]"
      ]
     },
     "execution_count": 2,
     "metadata": {},
     "output_type": "execute_result"
    }
   ],
   "source": [
    "#anchos\n",
    "w=[14 31 36 45]\n",
    "requerimientos=[211; 395; 610; 97]\n",
    "patrones = [[1,1,0,1],[0,0,2,0]]"
   ]
  },
  {
   "cell_type": "code",
   "execution_count": 6,
   "metadata": {},
   "outputs": [
    {
     "data": {
      "text/latex": [
       "$$ \\begin{alignat*}{1}\\min\\quad & x_{1} + x_{2}\\\\\n",
       "\\text{Subject to} \\quad & x_{1} \\geq 211\\\\\n",
       " & x_{1} \\geq 395\\\\\n",
       " & 2 x_{2} \\geq 610\\\\\n",
       " & x_{1} \\geq 97\\\\\n",
       " & x_{i} \\geq 0 \\quad\\forall i \\in \\{1,2\\}\\\\\n",
       "\\end{alignat*}\n",
       " $$"
      ],
      "text/plain": [
       "Minimization problem with:\n",
       " * 4 linear constraints\n",
       " * 2 variables\n",
       "Solver is ClpMathProg"
      ]
     },
     "execution_count": 6,
     "metadata": {},
     "output_type": "execute_result"
    }
   ],
   "source": [
    "master = Model(solver=ClpSolver())  \n",
    "\n",
    "#una variable por cada patrón\n",
    "@variable(master, x[1:length(patrones)] >= 0)\n",
    "\n",
    "#definimos una referencia a las restricciones para recuperar los duales.\n",
    "@defConstrRef myCons[1:4]\n",
    "for i=1:4\n",
    "    myCons[i] = @constraint(master, sum(x[p]*patrones[p][i] for p in 1:length(patrones))>=requerimientos[i])\n",
    "end\n",
    "\n",
    "#Objetivo\n",
    "@objective(master, Min, sum(x))\n",
    "master"
   ]
  },
  {
   "cell_type": "code",
   "execution_count": 7,
   "metadata": {},
   "outputs": [
    {
     "name": "stdout",
     "output_type": "stream",
     "text": [
      "getValue(x) = [395.0, 305.0]\n",
      "\n",
      "Solución óptima:\n",
      "\n",
      "anchos: [14 31 36 45]\n",
      "Patron actual: "
     ]
    }
   ],
   "source": [
    "status=solve(master)\n",
    "@show getValue(x)\n",
    "\n",
    "#obtenemos el optimo\n",
    "println(\"\\nSolución óptima:\\n\")\n",
    "\n",
    "println(\"anchos: \", w)\n",
    "\n",
    "epsilon=1e-6\n",
    "\n",
    "for i=1:length(patrones)\n",
    "   \n",
    "    if getValue(x[i])>epsilon \n",
    "        println(\"Patron actual: \", patrones[i], \", Número de rollos con este patrón: \", getValue(x[i]))\n",
    "    end\n",
    "end"
   ]
  },
  {
   "cell_type": "markdown",
   "metadata": {},
   "source": [
    "Necesitamos con ese patrón 700 rollos.  ¿Óptimo?  Claramente no. \n",
    "\n",
    "Generemos entonces nuevos patrones basados en los costos reducidos. Denotemos $r=(r_1,r_2,r_3,r_4)$ como los optimos duales de las restricciones 1, 2, 3, 4. El costo reducido de una variable $x_k$, con patrón $A_k$ puede calcularse como\n",
    "$$rc(x_k)=1-A_k^Tr$$\n",
    "\n",
    "Queremos buscar una variable $x_k$ tal que $rc(x_k)<0$, lo que podemos hacer resolviendo el siguiente problema de la mochila:\n",
    "\n",
    "$$\\begin{align}\n",
    "z^*=\\max\\qquad &r_1a_{k,1}+r_2a_{k,2}+r_3a_{k,3}+r_4a_{k,4} \\\\\n",
    "s.t.\\qquad &14a_{k,1}+31a_{k,2}+36a_{k,3}+45a_{k,4}\\le 100 \\\\\n",
    "&a_{k,1},a_{k,2},a_{k,3},a_{k,4}\\ge0,~\\textrm{y enteros}\n",
    "\\end{align}$$\n",
    "\n",
    "Si $z^*>1$, entonces $x_k$ con un patrón de corte $(a_{k,1},a_{k,2},a_{k,3},a_{k,4})$ debe ser agregado al _master_ y re-resolver el problema."
   ]
  },
  {
   "cell_type": "markdown",
   "metadata": {},
   "source": [
    "*OJO:* como este modelo es entero, debemos usar Cbc como solver esta vez."
   ]
  },
  {
   "cell_type": "code",
   "execution_count": 8,
   "metadata": {},
   "outputs": [
    {
     "data": {
      "text/latex": [
       "$$ \\begin{alignat*}{1}\\max\\quad & a_{2} + 0.5 a_{3}\\\\\n",
       "\\text{Subject to} \\quad & 14 a_{1} + 31 a_{2} + 36 a_{3} + 45 a_{4} \\leq 100\\\\\n",
       " & a_{i} \\geq 0, \\in \\mathbb{Z}, \\quad\\forall i \\in \\{1,2,3,4\\}\\\\\n",
       "\\end{alignat*}\n",
       " $$"
      ],
      "text/plain": [
       "Maximization problem with:\n",
       " * 1 linear constraint\n",
       " * 4 variables: 4 integer\n",
       "Solver is CbcMathProg"
      ]
     },
     "execution_count": 8,
     "metadata": {},
     "output_type": "execute_result"
    },
    {
     "name": "stdout",
     "output_type": "stream",
     "text": [
      "[1, 1, 0, 1], Número de rollos con este patrón: 395.0\n",
      "Patron actual: [0, 0, 2, 0], Número de rollos con este patrón: 305.0\n"
     ]
    }
   ],
   "source": [
    "using Cbc\n",
    "duales=getDual(myCons)[1:4]\n",
    "sub = Model(solver=CbcSolver())  \n",
    "\n",
    "#variable que define el patrón. Esta es entera.\n",
    "@variable(sub, a[1:4]>=0, Int)\n",
    "\n",
    "#restricción para que el patrón sea factible\n",
    "@constraint(sub, sum(a[i]*w[i] for i in 1:4)<=100)\n",
    "\n",
    "#define objetivo\n",
    "@objective(sub, Max, sum(duales[i]*a[i] for i in 1:4))\n",
    "\n",
    "sub\n",
    "\n"
   ]
  },
  {
   "cell_type": "code",
   "execution_count": 9,
   "metadata": {},
   "outputs": [
    {
     "name": "stdout",
     "output_type": "stream",
     "text": [
      "Costo reducido: -2.0\n",
      "Anchos: [14 31 36 45]\n"
     ]
    },
    {
     "data": {
      "text/plain": [
       "3-element Array{Array{Int64,1},1}:\n",
       " [1, 1, 0, 1]\n",
       " [0, 0, 2, 0]\n",
       " [0, 3, 0, 0]"
      ]
     },
     "execution_count": 9,
     "metadata": {},
     "output_type": "execute_result"
    }
   ],
   "source": [
    "status=solve(sub)\n",
    "\n",
    "\n",
    "nuevoPatron=getValue(a)[1:4]\n",
    "println(\"Costo reducido: \", 1-getobjectivevalue(sub))\n",
    "\n",
    "println(\"Anchos: \", w)\n",
    "\n",
    "nuevoPatron = round(nuevoPatron)\n",
    "\n",
    "println(\"\\nNuevo patrón de corte: \", nuevoPatron)\n",
    "\n",
    "push!(patrones, nuevoPatron)\n"
   ]
  },
  {
   "cell_type": "markdown",
   "metadata": {},
   "source": [
    "El costo reducido es $(1-3)=-2<0$. Agregamos esta variable entonces al ***\"master problem\"***."
   ]
  },
  {
   "cell_type": "code",
   "execution_count": 10,
   "metadata": {},
   "outputs": [
    {
     "data": {
      "text/latex": [
       "$$ \\begin{alignat*}{1}\\min\\quad & x_{1} + x_{2}\\\\\n",
       "\\text{Subject to} \\quad & x_{1} \\geq 211\\\\\n",
       " & x_{1} \\geq 395\\\\\n",
       " & 2 x_{2} \\geq 610\\\\\n",
       " & x_{1} \\geq 97\\\\\n",
       " & x_{i} \\geq 0 \\quad\\forall i \\in \\{1,2\\}\\\\\n",
       "\\end{alignat*}\n",
       " $$"
      ],
      "text/plain": [
       "Minimization problem with:\n",
       " * 4 linear constraints\n",
       " * 2 variables\n",
       "Solver is ClpMathProg"
      ]
     },
     "execution_count": 10,
     "metadata": {},
     "output_type": "execute_result"
    }
   ],
   "source": [
    "master"
   ]
  },
  {
   "cell_type": "markdown",
   "metadata": {},
   "source": [
    "JuMP (y casi todos los solvers de optimización) permiten definir un modelo tanto por filas (es decir, restricción por restricción), como por columa (es decir, variable por variable). De esta forma, podemos agregar facilmente una nueva variable en este caso, simplemente necesitamos decir:\n",
    "\n",
    "- el objetivo de la variable\n",
    "- en que restricciones aparece la variable, y con que coeficientes"
   ]
  },
  {
   "cell_type": "code",
   "execution_count": 11,
   "metadata": {},
   "outputs": [
    {
     "data": {
      "text/latex": [
       "$$ \\begin{alignat*}{1}\\min\\quad & x_{1} + x_{2} + z\\\\\n",
       "\\text{Subject to} \\quad & x_{1} \\geq 211\\\\\n",
       " & x_{1} + 3 z \\geq 395\\\\\n",
       " & 2 x_{2} \\geq 610\\\\\n",
       " & x_{1} \\geq 97\\\\\n",
       " & x_{i} \\geq 0 \\quad\\forall i \\in \\{1,2\\}\\\\\n",
       " & z \\geq 0\\\\\n",
       "\\end{alignat*}\n",
       " $$"
      ],
      "text/plain": [
       "Minimization problem with:\n",
       " * 4 linear constraints\n",
       " * 3 variables\n",
       "Solver is ClpMathProg"
      ]
     },
     "execution_count": 11,
     "metadata": {},
     "output_type": "execute_result"
    }
   ],
   "source": [
    "@variable(master, z>=0, objective=1, inconstraints=myCons, coefficients=nuevoPatron)\n",
    "master"
   ]
  },
  {
   "cell_type": "code",
   "execution_count": 12,
   "metadata": {},
   "outputs": [
    {
     "data": {
      "text/latex": [
       "$$ \\begin{alignat*}{1}\\min\\quad & x_{1} + x_{2} + z\\\\\n",
       "\\text{Subject to} \\quad & x_{1} \\geq 211\\\\\n",
       " & x_{1} + 3 z \\geq 395\\\\\n",
       " & 2 x_{2} \\geq 610\\\\\n",
       " & x_{1} \\geq 97\\\\\n",
       " & x_{i} \\geq 0 \\quad\\forall i \\in \\{1,2\\}\\\\\n",
       " & z \\geq 0\\\\\n",
       "\\end{alignat*}\n",
       " $$"
      ],
      "text/plain": [
       "Minimization problem with:\n",
       " * 4 linear constraints\n",
       " * 3 variables\n",
       "Solver is ClpMathProg"
      ]
     },
     "execution_count": 12,
     "metadata": {},
     "output_type": "execute_result"
    },
    {
     "name": "stdout",
     "output_type": "stream",
     "text": [
      "\n",
      "Nuevo patrón de corte: [0.0, 3.0, 0.0, 0.0]\n"
     ]
    }
   ],
   "source": [
    "master"
   ]
  },
  {
   "cell_type": "code",
   "execution_count": 13,
   "metadata": {},
   "outputs": [],
   "source": [
    "#Resolvermos\n",
    "status=solve(master)\n",
    "\n",
    "#get the optimal solution\n",
    "println(\"\\nSolución óptima:\\n\")\n",
    "\n",
    "println(\"Anchos: \", w)\n",
    "\n",
    "for i=1:length(x)\n",
    "   \n",
    "    if getValue(x[i])>epsilon\n",
    "        println(\"Patron inicial: \", patrones[i], \", Número de rollos con este patrón: \", getValue(x[i]))\n",
    "\n",
    "\n",
    "    end\n",
    "end\n",
    "\n",
    "\n",
    "if getValue(z)>epsilon\n",
    "    println(\"Patron nuevo: \", nuevoPatron, \", Número de rollos con este patrón: \", getValue(z))\n",
    "end\n"
   ]
  },
  {
   "cell_type": "markdown",
   "metadata": {},
   "source": [
    "Como vemos, el objetivo se reduce a 577.3 gracias a la nueva variable. \n",
    "\n",
    "### Pongamos ahora todo junto! (Sugerencia: reiniciar el Kernel)"
   ]
  },
  {
   "cell_type": "code",
   "execution_count": 1,
   "metadata": {},
   "outputs": [
    {
     "name": "stdout",
     "output_type": "stream",
     "text": [
      "Iteración 1, Objetivo del Master:700.0\n",
      "\tAgregada una nueva variable con patrón: [0.0, 3.0, 0.0, 0.0], costo reducido: -2.0\n",
      "Iteración 2, Objetivo del Master:577.3333333333334\n"
     ]
    },
    {
     "name": "stderr",
     "output_type": "stream",
     "text": [
      "\u001b[1m\u001b[33mWARNING: \u001b[39m\u001b[22m\u001b[33mSolver does not appear to support providing initial feasible solutions.\u001b[39m\n",
      "\u001b[1m\u001b[33mWARNING: \u001b[39m\u001b[22m\u001b[33mSolver does not appear to support hot-starts. Model will be built from scratch.\u001b[39m\n"
     ]
    },
    {
     "name": "stdout",
     "output_type": "stream",
     "text": [
      "\tAgregada una nueva variable con patrón: [7.0, 0.0, 0.0, 0.0], costo reducido: -3.666666666666667\n",
      "Iteración 3, Objetivo del Master:517.6190476190476\n",
      "Presolve 0 (-1) rows, 0 (-4) columns and 0 (-4) elements\n",
      "Optimal - objective value 1\n",
      "After Postsolve, objective 1, infeasibilities - dual 0 (0), primal 0 (0)\n",
      "Optimal objective 1 - 0 iterations time 0.002, Presolve 0.00\n",
      "Cbc0045I Solution with objective value -1 saved\n",
      "\tAgregada una nueva variable con patrón: [2.0, 0.0, 2.0, 0.0], costo reducido: -0.2857142857142856\n",
      "Iteración 4, Objetivo del Master:501.3333333333333\n",
      "Presolve 0 (-1) rows, 0 (-4) columns and 0 (-4) elements\n",
      "Optimal - objective value 1\n",
      "After Postsolve, objective 1, infeasibilities - dual 0 (0), primal 0 (0)\n",
      "Optimal objective 1 - 0 iterations time 0.002, Presolve 0.00\n",
      "Cbc0045I Solution with objective value -1 saved\n",
      "\tAgregada una nueva variable con patrón: [0.0, 0.0, 0.0, 2.0], costo reducido: -0.3333333333333335\n",
      "Iteración 5, Objetivo del Master:485.16666666666663\n",
      "Presolve 0 (-1) rows, 0 (-4) columns and 0 (-4) elements\n",
      "Optimal - objective value 1\n",
      "After Postsolve, objective 1, infeasibilities - dual 0 (0), primal 0 (0)\n",
      "Optimal objective 1 - 0 iterations time 0.002, Presolve 0.00\n",
      "Cbc0045I Solution with objective value -1 saved\n",
      "Presolve 0 (-1) rows, 0 (-4) columns and 0 (-4) elements\n",
      "Optimal - objective value 1\n",
      "After Postsolve, objective 1, infeasibilities - dual 0 (0), primal 0 (0)\n",
      "Optimal objective 1 - 0 iterations time 0.002, Presolve 0.00\n",
      "Cbc0045I Solution with objective value -1 saved\n",
      "\tAgregada una nueva variable con patrón: [0.0, 2.0, 1.0, 0.0], costo reducido: -0.16666666666666652\n",
      "Iteración 6, Objetivo del Master:452.25\n",
      "\n",
      "Solución Óptima:\n",
      "\n",
      "anchos: [14, 31, 36, 45]\n",
      "Patron: [1, 1, 0, 1], Número de rollos con este patrón: 0.0\n",
      "Patron: [0, 0, 2, 0], Número de rollos con este patrón: 0.0\n",
      "Patron: [0, 3, 0, 0], Número de rollos con este patrón: 0.0\n",
      "Patron: [7, 0, 0, 0], Número de rollos con este patrón: 0.0\n",
      "Patron: [2, 0, 2, 0], Número de rollos con este patrón: 206.25\n",
      "Patron: [0, 0, 0, 2], Número de rollos con este patrón: 48.5\n",
      "Patron: [0, 2, 1, 0], Número de rollos con este patrón: 197.5\n",
      "Número total de rollos requeridos: 452.25\n",
      "Presolve 0 (-1) rows, 0 (-4) columns and 0 (-4) elements\n",
      "Optimal - objective value 1\n",
      "After Postsolve, objective 1, infeasibilities - dual 0 (0), primal 0 (0)\n",
      "Optimal objective 1 - 0 iterations time 0.002, Presolve 0.00\n",
      "Cbc0045I Solution with objective value -1 saved\n",
      "Coin0505I Presolved problem not optimal, resolve after postsolve\n",
      "Coin0505I Presolved problem not optimal, resolve after postsolve\n"
     ]
    }
   ],
   "source": [
    "using JuMP  \n",
    "using Clp\n",
    "using Cbc\n",
    "master = Model(solver=ClpSolver(LogLevel=0)) \n",
    "\n",
    "w=[14 31 36 45]\n",
    "requerimientos=[211; 395; 610; 97]\n",
    "patrones = [[1,1,0,1],[0,0,2,0]]\n",
    "\n",
    "@variable(master, x[1:length(patrones)] >= 0)\n",
    "@defConstrRef myCons[1:4]\n",
    "for i=1:4\n",
    "    myCons[i] = @constraint(master, sum(x[p]*patrones[p][i] for p in 1:length(patrones))>=requerimientos[i])\n",
    "end\n",
    "@objective(master, Min, sum(x))\n",
    "solve(master)\n",
    "println(\"Iteración 1, Objetivo del Master:\", getObjectiveValue(master))\n",
    "\n",
    "# suproblema\n",
    "\n",
    "duales=getDual(myCons)[1:4]\n",
    "sub=Model(solver=CbcSolver(logLevel=0))  \n",
    "w=[14,31,36,45]\n",
    "@variable(sub, a[1:4]>=0, Int)\n",
    "@constraint(sub, sum(a[i]*w[i] for i in 1:4)<=100)\n",
    "@objective(sub, Max, sum(duales[i]*a[i] for i in 1:4))\n",
    "\n",
    "\n",
    "#Resolvemos el subproblema\n",
    "solve(sub)\n",
    "sub_obj=getObjectiveValue(sub);\n",
    "epsilon=1e-6; \n",
    "\n",
    "#guardemos las variables en un arreglo\n",
    "variables=Variable[]\n",
    "push!(variables,x[1])\n",
    "push!(variables,x[2])\n",
    "\n",
    "iter=2\n",
    "\n",
    "while sub_obj>1+epsilon  #Mientras costo reducido sea >1\n",
    "\n",
    "    #Obtenemos el nuevo patrón\n",
    "    nuevoPatron=getValue(a)[1:4]\n",
    "    nuevoPatron = round(nuevoPatron)\n",
    "\n",
    "    #Agregamos la nueva variable z\n",
    "    @variable(master, z>=0, objective=1, inconstraints=myCons, coefficients=nuevoPatron)\n",
    "    \n",
    "    println(\"\\tAgregada una nueva variable con patrón: \", nuevoPatron, \", costo reducido: \", (1-sub_obj))\n",
    "    \n",
    "    #agregamos la variable a la lista de variables\n",
    "    push!(variables, z)\n",
    "    #agregamos el nuevo patron a la lista de patrones\n",
    "    push!(patrones, nuevoPatron)\n",
    "    \n",
    "    solve(master)\n",
    "    \n",
    "    println(\"\\Iteración \",iter, \", Objetivo del Master:\", getObjectiveValue(master))\n",
    "    \n",
    "    #duales\n",
    "    duales=getDual(myCons)[1:4]\n",
    "    \n",
    "    #modificamos el objetivo del problema sub\n",
    "    @objective(sub, Max, sum(duales[i]*a[i] for i in 1:4))\n",
    "    \n",
    "    solve(sub);\n",
    "    \n",
    "    sub_obj=getObjectiveValue(sub)\n",
    "    \n",
    "    iter=iter+1\n",
    "    \n",
    "end\n",
    "\n",
    "#imprimo la solución óptima\n",
    "println(\"\\nSolución Óptima:\\n\")\n",
    "\n",
    "println(\"anchos: \", w)\n",
    "\n",
    "suma = 0\n",
    "for i=1:length(variables)\n",
    "   \n",
    "    #if getValue(variables[i])>epsilon\n",
    "        println(\"Patron: \", patrones[i], \", Número de rollos con este patrón: \", getValue(variables[i]))\n",
    "        suma=suma+getValue(variables[i])\n",
    "    #end\n",
    "end\n",
    "\n",
    "println(\"Número total de rollos requeridos: \", suma)"
   ]
  },
  {
   "cell_type": "markdown",
   "metadata": {},
   "source": [
    "Excelente! Necesitamos entonces solo 3 patrones de cortes (y que son muy distintos a los que inicialmente mencionamos)"
   ]
  },
  {
   "cell_type": "markdown",
   "metadata": {},
   "source": [
    "### Como obtener una solución ENTERA? ###\n",
    "\n",
    "Generación de columna solo resuelve problemas lineales LP. Sin embargo, el problema es entero (no podemos usar 206.25 rollos  con el primer patrón). ¿Se puede hacer una generación de columnas _entera_? \n",
    "\n",
    "*Si*, pero eso requiere una técnica avanzada llamada  [branch-and-price](http://en.wikipedia.org/wiki/Branch_and_price) que es básicamente un árbol de branch-and-bound donde en cada nodo resuelvo un problema de generación de columnas. Desafortunadamente, los solvers comerciales (Gurobi, CPLEX) no resuelven este tipo de problemas. Hasta ahora, el único solver académico que resuelve branch-and-price es [SCIP](http://scip.zib.de/).\n",
    "\n",
    "En vez de resolver el problema entero a optimalidad, podemos usar dos métodos para generar una solución entera.\n"
   ]
  },
  {
   "cell_type": "markdown",
   "metadata": {},
   "source": [
    "#### Metodo 1: Redondeo ####\n",
    "\n",
    "Una heuristica común es redondear la solución fraccionaria al entero mas _cercano_ y _factible_. Como redondear dependerá del problema. En este problema, debemos redondear _hacia arriba_ para poder estar seguros de que la solución es factible. "
   ]
  },
  {
   "cell_type": "code",
   "execution_count": 15,
   "metadata": {},
   "outputs": [],
   "source": [
    "println(\"\\nSolución entera basada en redondeo:\\n\")\n",
    "\n",
    "println(\"Ancho: \", w)\n",
    "\n",
    "suma=0.0\n",
    "\n",
    "for i=1:length(variables)\n",
    "    if getValue(variables[i])>epsilon\n",
    "        println(\"Patron: \", patrones[i], \", Número de rollos con este patrón: \", ceil(getValue(variables[i])))\n",
    "        suma=suma+ceil(getValue(variables[i]))\n",
    "    end\n",
    "end\n",
    "\n",
    "\n",
    "println(\"Número total de rollos requeridos: \", suma)"
   ]
  },
  {
   "cell_type": "markdown",
   "metadata": {},
   "source": [
    "Ok, tenemos una solución entera que usa 454 rollos en total. Recordemos que la solución LP nos da valor 452.25. O sea, aunque sea una heurística, sabemos que estamos a menos de un 0.4% del óptimo."
   ]
  },
  {
   "cell_type": "markdown",
   "metadata": {},
   "source": [
    "#### Método 2: Branch-and-Bound con las columnas generadas ####\n",
    "\n",
    "Otra práctica es usar directamente las columnas generadas pero forzando que sean enteras. Esto no entrega un óptimo, ya que otra columna podría agregarse, pero puede entregar una  solución suficientemente buena.\n",
    "\n"
   ]
  },
  {
   "cell_type": "markdown",
   "metadata": {},
   "source": [
    "OJO: Por ser ahora un problema entero, debemos re-formularlo con Cbc como solver"
   ]
  },
  {
   "cell_type": "code",
   "execution_count": 2,
   "metadata": {},
   "outputs": [
    {
     "data": {
      "text/plain": [
       "7-element Array{Array{Int64,1},1}:\n",
       " [1, 1, 0, 1]\n",
       " [0, 0, 2, 0]\n",
       " [0, 3, 0, 0]\n",
       " [7, 0, 0, 0]\n",
       " [2, 0, 2, 0]\n",
       " [0, 0, 0, 2]\n",
       " [0, 2, 1, 0]"
      ]
     },
     "execution_count": 2,
     "metadata": {},
     "output_type": "execute_result"
    }
   ],
   "source": [
    "patrones"
   ]
  },
  {
   "cell_type": "code",
   "execution_count": 3,
   "metadata": {},
   "outputs": [
    {
     "name": "stdout",
     "output_type": "stream",
     "text": [
      "\n",
      "Solución entera usando las columnas generadas:\n",
      "\n",
      "anchos: [14, 31, 36, 45]\n",
      "Patron: [1, 1, 0, 1], Número de rollos con este patrón: 1.0\n",
      "Patron: [0, 0, 2, 0], Número de rollos con este patrón: 102.0\n",
      "Patron: [2, 0, 2, 0], Número de rollos con este patrón: 106.0\n",
      "Patron: [0, 0, 0, 2], Número de rollos con este patrón: 48.0\n",
      "Patron: [0, 2, 1, 0], Número de rollos con este patrón: 197.0\n",
      "Número total de rollos requeridos: 453.0\n"
     ]
    }
   ],
   "source": [
    "master = Model(solver=CbcSolver(logLevel=0))  \n",
    "\n",
    "#una variable por cada patrón\n",
    "@variable(master, x[1:length(patrones)] >= 0, Int)\n",
    "\n",
    "#definimos una referencia a las restricciones para recuperar los duales.\n",
    "@defConstrRef myCons[1:4]\n",
    "for i=1:4\n",
    "    myCons[i] = @constraint(master, sum(x[p]*patrones[p][i] for p in 1:length(patrones))>=requerimientos[i])\n",
    "end\n",
    "\n",
    "#Objetivo\n",
    "@objective(master, Min, sum(x))\n",
    "\n",
    "solve(master)\n",
    "\n",
    "\n",
    "\n",
    "\n",
    "println(\"\\nSolución entera usando las columnas generadas:\\n\")\n",
    "\n",
    "println(\"anchos: \", w)\n",
    "\n",
    "suma=0\n",
    "\n",
    "for i=1:length(x)\n",
    "   \n",
    "    if getValue(x[i])>epsilon\n",
    "        println(\"Patron: \", patrones[i], \", Número de rollos con este patrón: \", ceil(getValue(x[i])))\n",
    "        suma=suma+getValue(x[i])\n",
    "    end\n",
    "end\n",
    "\n",
    "\n",
    "println(\"Número total de rollos requeridos: \", suma)"
   ]
  },
  {
   "cell_type": "markdown",
   "metadata": {},
   "source": [
    "Efectivamente, podiamos ahorrarnos 1 rollo extra usando el método 2."
   ]
  }
 ],
 "metadata": {
  "kernelspec": {
   "display_name": "Julia 0.6.2",
   "language": "julia",
   "name": "julia-0.6"
  },
  "language_info": {
   "file_extension": ".jl",
   "mimetype": "application/julia",
   "name": "julia",
   "version": "0.6.2"
  }
 },
 "nbformat": 4,
 "nbformat_minor": 1
}
