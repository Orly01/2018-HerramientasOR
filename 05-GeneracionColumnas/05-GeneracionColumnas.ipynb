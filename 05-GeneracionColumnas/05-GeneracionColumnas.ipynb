{
 "cells": [
  {
   "cell_type": "markdown",
   "metadata": {
    "slideshow": {
     "slide_type": "slide"
    }
   },
   "source": [
    "# Cutting Stock "
   ]
  },
  {
   "cell_type": "markdown",
   "metadata": {
    "slideshow": {
     "slide_type": "slide"
    }
   },
   "source": [
    "Cada rollo de papel tiene un ancho de 100\n",
    "\n",
    "Ancho / Demanda:\n",
    "\n",
    "- 14 / 211\n",
    "- 31 / 395\n",
    "- 36 / 610\n",
    "- 45 / 97\n",
    "\n",
    "¿Cómo cortar cada rollo de paper para que el número de rollos originales usados sea el menor posible?\n"
   ]
  },
  {
   "cell_type": "markdown",
   "metadata": {},
   "source": [
    "### Veamos como formularlo en Jump\n",
    "**OJO: En este módulo usaremos modelos enteros (que se resuelven con ``Cbc``) y continuos (que se resuelven con ``Clp``)**"
   ]
  },
  {
   "cell_type": "code",
   "execution_count": null,
   "metadata": {},
   "outputs": [],
   "source": [
    "using JuMP\n",
    "using Clp \n",
    "using Cbc\n"
   ]
  },
  {
   "cell_type": "markdown",
   "metadata": {},
   "source": [
    "Datos del problema (de juguete, despues probaremos con los correctos):"
   ]
  },
  {
   "cell_type": "code",
   "execution_count": null,
   "metadata": {},
   "outputs": [],
   "source": [
    "#anchos\n",
    "w=[14 31 36 45]\n",
    "requerimientos=[2; 4; 6; 1]"
   ]
  },
  {
   "cell_type": "markdown",
   "metadata": {},
   "source": [
    "## Ejercicio: Resolver el modelo con la formulación tradicional (usar Cbc para resolverlo)\n",
    "Recuerdo: Para definir una variable entera o binaria usamos:"
   ]
  },
  {
   "cell_type": "code",
   "execution_count": null,
   "metadata": {},
   "outputs": [],
   "source": [
    "K = sum(requerimientos)\n",
    "model = Model(solver=CbcSolver())\n",
    "@variable(model, x[1:length(requerimientos),1:K] >= 0, Int)\n",
    "### COMPLETAR\n",
    "model\n",
    "\n",
    "\n"
   ]
  },
  {
   "cell_type": "code",
   "execution_count": null,
   "metadata": {},
   "outputs": [],
   "source": [
    "solve(model)\n",
    "@show getobjectivevalue(model)\n",
    "@show getvalue(x)"
   ]
  },
  {
   "cell_type": "markdown",
   "metadata": {},
   "source": [
    "# Generación de Columnas"
   ]
  },
  {
   "cell_type": "markdown",
   "metadata": {},
   "source": [
    "Inicializamos el ***\"problema master\"*** con solo 2 variables, de forma de tener una solución inicial:\n",
    "- ancho (14,31,36,45), cantidad (1,1,0,1), como $x_1$\n",
    "- ancho (14,31,36,45), cantidad (0,0,2,0), como $x_2$\n",
    "\n",
    "**\\[Recuerdo 1\\]** ¿Qué significa cada variable? _El número de rollos de papel que cortaremos con este patrón._\n",
    "\n",
    "**\\[Recuerdo 2\\]** ¿Como se ve el problema master?\n",
    "\n",
    "$$\n",
    "\\begin{align}\n",
    "\\nonumber\\min\\qquad\\qquad\\quad &x_1+x_2 \\\\\n",
    "s.t.\\qquad\\left( \\begin{array}{c}\n",
    "1 \\\\\n",
    "1 \\\\\n",
    "0 \\\\\n",
    "1 \\end{array} \\right)&x_1+\\left( \\begin{array}{c}\n",
    "0 \\\\\n",
    "0 \\\\\n",
    "2 \\\\\n",
    "0 \\end{array} \\right)x_2 \\ge \\left( \\begin{array}{c}\n",
    "211 \\\\\n",
    "395 \\\\\n",
    "610 \\\\\n",
    "97 \\end{array} \\right) \\\\ \n",
    "&x_1,x_2\\ge0\n",
    "\\end{align}$$"
   ]
  },
  {
   "cell_type": "code",
   "execution_count": null,
   "metadata": {},
   "outputs": [],
   "source": [
    "#anchos\n",
    "w=[14 31 36 45]\n",
    "requerimientos=[211; 395; 610; 97]\n",
    "patrones = [[1,1,0,1],[0,0,2,0]]"
   ]
  },
  {
   "cell_type": "code",
   "execution_count": null,
   "metadata": {},
   "outputs": [],
   "source": [
    "master = Model(solver=ClpSolver())  \n",
    "\n",
    "#una variable por cada patrón\n",
    "@variable(master, x[1:length(patrones)] >= 0)\n",
    "\n",
    "#definimos una referencia a las restricciones para recuperar los duales.\n",
    "@defConstrRef myCons[1:4]\n",
    "for i=1:4\n",
    "    myCons[i] =  ### COMPLETAR\n",
    "end\n",
    "\n",
    "#Objetivo\n",
    "@objective(master, Min, sum(x))\n",
    "master"
   ]
  },
  {
   "cell_type": "code",
   "execution_count": null,
   "metadata": {},
   "outputs": [],
   "source": [
    "status=solve(master)\n",
    "@show getValue(x)\n",
    "\n",
    "#obtenemos el optimo\n",
    "println(\"\\nSolución óptima:\\n\")\n",
    "\n",
    "println(\"anchos: \", w)\n",
    "\n",
    "epsilon=1e-6\n",
    "\n",
    "for i=1:length(patrones)\n",
    "   \n",
    "    if getValue(x[i])>epsilon \n",
    "        println(\"Patron actual: \", patrones[i], \", Número de rollos con este patrón: \", getValue(x[i]))\n",
    "    end\n",
    "end"
   ]
  },
  {
   "cell_type": "markdown",
   "metadata": {},
   "source": [
    "Necesitamos con ese patrón 700 rollos.  ¿Óptimo?  Claramente no. \n",
    "\n",
    "Generemos entonces nuevos patrones basados en los costos reducidos. Denotemos $r=(r_1,r_2,r_3,r_4)$ como los optimos duales de las restricciones 1, 2, 3, 4. El costo reducido de una variable $x_k$, con patrón $A_k$ puede calcularse como\n",
    "$$rc(x_k)=1-A_k^Tr$$\n",
    "\n",
    "Queremos buscar una variable $x_k$ tal que $rc(x_k)<0$, lo que podemos hacer resolviendo el siguiente problema de la mochila:\n",
    "\n",
    "$$\\begin{align}\n",
    "z^*=\\max\\qquad &r_1a_{k,1}+r_2a_{k,2}+r_3a_{k,3}+r_4a_{k,4} \\\\\n",
    "s.t.\\qquad &14a_{k,1}+31a_{k,2}+36a_{k,3}+45a_{k,4}\\le 100 \\\\\n",
    "&a_{k,1},a_{k,2},a_{k,3},a_{k,4}\\ge0,~\\textrm{y enteros}\n",
    "\\end{align}$$\n",
    "\n",
    "Si $z^*>1$, entonces $x_k$ con un patrón de corte $(a_{k,1},a_{k,2},a_{k,3},a_{k,4})$ debe ser agregado al _master_ y re-resolver el problema."
   ]
  },
  {
   "cell_type": "markdown",
   "metadata": {},
   "source": [
    "*OJO:* como este modelo es entero, debemos usar Cbc como solver esta vez."
   ]
  },
  {
   "cell_type": "code",
   "execution_count": null,
   "metadata": {},
   "outputs": [],
   "source": [
    "duales=getDual(myCons)[1:4]\n",
    "sub = Model(solver=CbcSolver())  \n",
    "\n",
    "#variable que define el patrón. Esta es entera.\n",
    "@variable(sub, a[1:4]>=0, Int)\n",
    "\n",
    "# completar el modelo\n",
    "\n",
    "sub\n",
    "\n"
   ]
  },
  {
   "cell_type": "code",
   "execution_count": null,
   "metadata": {},
   "outputs": [],
   "source": [
    "status=solve(sub)\n",
    "\n",
    "\n",
    "nuevoPatron=getValue(a)[1:4]\n",
    "println(\"Costo reducido: \", 1-getobjectivevalue(sub))\n",
    "\n",
    "println(\"Anchos: \", w)\n",
    "\n",
    "nuevoPatron = round(nuevoPatron)\n",
    "\n",
    "println(\"\\nNuevo patrón de corte: \", nuevoPatron)\n",
    "\n",
    "push!(patrones, nuevoPatron)\n"
   ]
  },
  {
   "cell_type": "markdown",
   "metadata": {},
   "source": [
    "El costo reducido es $(1-3)=-2<0$. Agregamos esta variable entonces al ***\"master problem\"***."
   ]
  },
  {
   "cell_type": "code",
   "execution_count": null,
   "metadata": {},
   "outputs": [],
   "source": [
    "master"
   ]
  },
  {
   "cell_type": "markdown",
   "metadata": {},
   "source": [
    "JuMP (y casi todos los solvers de optimización) permiten definir un modelo tanto por filas (es decir, restricción por restricción), como por columa (es decir, variable por variable). De esta forma, podemos agregar facilmente una nueva variable en este caso, simplemente necesitamos decir:\n",
    "\n",
    "- el objetivo de la variable\n",
    "- en que restricciones aparece la variable, y con que coeficientes"
   ]
  },
  {
   "cell_type": "code",
   "execution_count": null,
   "metadata": {},
   "outputs": [],
   "source": [
    "@variable(master, z>=0, objective=1, inconstraints=myCons, coefficients=nuevoPatron)\n",
    "master"
   ]
  },
  {
   "cell_type": "code",
   "execution_count": null,
   "metadata": {},
   "outputs": [],
   "source": [
    "master"
   ]
  },
  {
   "cell_type": "code",
   "execution_count": null,
   "metadata": {},
   "outputs": [],
   "source": [
    "#Resolvermos\n",
    "status=solve(master)\n",
    "\n",
    "#get the optimal solution\n",
    "println(\"\\nSolución óptima:\\n\")\n",
    "\n",
    "println(\"Anchos: \", w)\n",
    "\n",
    "for i=1:length(x)\n",
    "   \n",
    "    if getValue(x[i])>epsilon\n",
    "        println(\"Patron inicial: \", patrones[i], \", Número de rollos con este patrón: \", getValue(x[i]))\n",
    "\n",
    "\n",
    "    end\n",
    "end\n",
    "\n",
    "\n",
    "if getValue(z)>epsilon\n",
    "    println(\"Patron nuevo: \", nuevoPatron, \", Número de rollos con este patrón: \", getValue(z))\n",
    "end\n"
   ]
  },
  {
   "cell_type": "markdown",
   "metadata": {},
   "source": [
    "Como vemos, el objetivo se reduce a 577.3 gracias a la nueva variable. \n",
    "\n"
   ]
  },
  {
   "cell_type": "markdown",
   "metadata": {},
   "source": [
    "# Pongamos ahora todo junto! (Sugerencia: reiniciar el Kernel)"
   ]
  },
  {
   "cell_type": "markdown",
   "metadata": {},
   "source": [
    "Sugerencia: cree un arreglo de variables ``variables`` para poder referirse a ellas de forma mas facil. Para esto, puede crear el arreglo e ir agregando las variables que defina:\n",
    "\n",
    "```\n",
    "variables=Variable[]\n",
    "push!(variables,x[1])\n",
    "push!(variables,x[2])\n",
    "push!(variables, z)\n",
    "```\n",
    "\n"
   ]
  },
  {
   "cell_type": "code",
   "execution_count": null,
   "metadata": {},
   "outputs": [],
   "source": [
    "using JuMP  \n",
    "using Clp\n",
    "using Cbc\n",
    "w=[14 31 36 45]\n",
    "requerimientos=[211; 395; 610; 97]\n",
    "patrones = [[1,1,0,1],[0,0,2,0]]\n",
    "\n",
    "\n",
    "## Completar"
   ]
  },
  {
   "cell_type": "markdown",
   "metadata": {},
   "source": [
    "Excelente! Necesitamos entonces solo 3 patrones de cortes (y que son muy distintos a los que inicialmente mencionamos)"
   ]
  },
  {
   "cell_type": "markdown",
   "metadata": {},
   "source": [
    "### Como obtener una solución ENTERA? ###\n",
    "\n",
    "Generación de columna solo resuelve problemas lineales LP. Sin embargo, el problema es entero (no podemos usar 206.25 rollos  con el primer patrón). ¿Se puede hacer una generación de columnas _entera_? \n",
    "\n",
    "*Si*, pero eso requiere una técnica avanzada llamada  [branch-and-price](http://en.wikipedia.org/wiki/Branch_and_price) que es básicamente un árbol de branch-and-bound donde en cada nodo resuelvo un problema de generación de columnas. Desafortunadamente, los solvers comerciales (Gurobi, CPLEX) no resuelven este tipo de problemas. Hasta ahora, el único solver académico que resuelve branch-and-price es [SCIP](http://scip.zib.de/).\n",
    "\n",
    "En vez de resolver el problema entero a optimalidad, podemos usar dos métodos para generar una solución entera.\n"
   ]
  },
  {
   "cell_type": "markdown",
   "metadata": {},
   "source": [
    "#### Metodo 1: Redondeo ####\n",
    "\n",
    "Una heuristica común es redondear la solución fraccionaria al entero mas _cercano_ y _factible_. Como redondear dependerá del problema. En este problema, debemos redondear _hacia arriba_ para poder estar seguros de que la solución es factible. "
   ]
  },
  {
   "cell_type": "code",
   "execution_count": null,
   "metadata": {},
   "outputs": [],
   "source": [
    "println(\"\\nSolución entera basada en redondeo:\\n\")\n",
    "\n",
    "println(\"Ancho: \", w)\n",
    "\n",
    "suma=0.0\n",
    "\n",
    "for i=1:length(variables)\n",
    "    if getValue(variables[i])>epsilon\n",
    "        println(\"Patron: \", patrones[i], \", Número de rollos con este patrón: \", ceil(getValue(variables[i])))\n",
    "        suma=suma+ceil(getValue(variables[i]))\n",
    "    end\n",
    "end\n",
    "\n",
    "\n",
    "println(\"Número total de rollos requeridos: \", suma)"
   ]
  },
  {
   "cell_type": "markdown",
   "metadata": {},
   "source": [
    "Ok, tenemos una solución entera que usa 454 rollos en total. Recordemos que la solución LP nos da valor 452.25. O sea, aunque sea una heurística, sabemos que estamos a menos de un 0.4% del óptimo."
   ]
  },
  {
   "cell_type": "markdown",
   "metadata": {},
   "source": [
    "#### Método 2: Branch-and-Bound con las columnas generadas ####\n",
    "\n",
    "Otra práctica es usar directamente las columnas generadas pero forzando que sean enteras. Esto no entrega un óptimo, ya que otra columna podría agregarse, pero puede entregar una  solución suficientemente buena.\n",
    "\n"
   ]
  },
  {
   "cell_type": "markdown",
   "metadata": {},
   "source": [
    "OJO: Por ser ahora un problema entero, debemos re-formularlo con Cbc como solver"
   ]
  },
  {
   "cell_type": "code",
   "execution_count": null,
   "metadata": {},
   "outputs": [],
   "source": []
  },
  {
   "cell_type": "markdown",
   "metadata": {},
   "source": [
    "Efectivamente, podiamos ahorrarnos 1 rollo extra usando el método 2."
   ]
  }
 ],
 "metadata": {
  "kernelspec": {
   "display_name": "Julia 0.6.2",
   "language": "julia",
   "name": "julia-0.6"
  },
  "language_info": {
   "file_extension": ".jl",
   "mimetype": "application/julia",
   "name": "julia",
   "version": "0.6.2"
  }
 },
 "nbformat": 4,
 "nbformat_minor": 1
}
