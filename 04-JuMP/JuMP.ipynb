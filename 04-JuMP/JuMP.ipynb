{
 "cells": [
  {
   "cell_type": "markdown",
   "metadata": {},
   "source": [
    "# Que es JuMP?\n",
    "\n",
    "JuMP es un _lenguaje de modelamiento_ para problemas de optimización, escrito en Julia. \n",
    "\n",
    "Supongamos que queremos resolver un modelo sencillo de optimización. Por ejemplo:\n",
    "\n",
    "$$\n",
    "\\begin{align*}\n",
    "\\max_{x_1,x_2,x_3} \\quad& x_1 + 2x_2 + 3x_3 \\\\\n",
    "\\text{s.t.}\\quad& -x_1 + x_2 + x_3 \\leq 20 \\\\\n",
    "& x_1 -3x_2 + x_3 \\leq 30 \\\\\n",
    "& 0 \\leq x_1 \\leq 40 \\\\\n",
    "& x_2, x_3 \\geq 0.\n",
    "\\end{align*}\n",
    "$$\n",
    "\n",
    "\n",
    "PAra resolver esto, se requiere usar un _solver_: una implementación de software de distintos métodos de optimización (Simplex, B&B, etc). Tipicamente, tienen interfaces de programación que no son tan sencillos. Por ejemplo, el modelo anterior en CPLEX para Java sería:\n",
    "\n",
    "```java\n",
    "import ilog.concert.*;\n",
    "import ilog.cplex.*;\n",
    "public class Example {\n",
    " public static void main(String[] args) {\n",
    "   try {\n",
    "    IloCplex cplex = new IloCplex();\n",
    "double[] lb = {0.0, 0.0, 0.0};\n",
    "double[] ub = {40.0, Double.MAX_VALUE, Double.MAX_VALUE}; IloNumVar[] x = cplex.numVarArray(3, lb, ub);\n",
    "    double[] objvals = {1.0, 2.0, 3.0};\n",
    "\n",
    "cplex.addMaximize(cplex.scalProd(x, objvals));\n",
    "    cplex.addLe(cplex.sum(cplex.prod(-1.0, x[0]),\n",
    "                   cplex.prod( 1.0, x[1]),\n",
    "                   cplex.prod( 1.0, x[2])), 20.0);\n",
    "    cplex.addLe(cplex.sum(cplex.prod( 1.0, x[0]),\n",
    "                   cplex.prod(-3.0, x[1]),\n",
    "                   cplex.prod( 1.0, x[2])), 30.0);\n",
    "if ( cplex.solve() ) {\n",
    "cplex.out().println(\"Solution status = \" + cplex.getStatus()); cplex.out().println(\"Solution value = \" + cplex.getObjValue());\n",
    "     double[] val = cplex.getValues(x);\n",
    "     int ncols = cplex.getNcols();\n",
    "     for (int j = 0; j < ncols; ++j)\n",
    "       cplex.out().println(\"Column: \" + j + \" Value = \" + val[j]);\n",
    "    }\n",
    "    cplex.end();\n",
    "   }\n",
    "   catch (IloException e) {\n",
    "    System.err.println(\"Concert exception '\" + e + \"' caught\");\n",
    "} }\n",
    "}\n",
    "```\n",
    "\n",
    "Un lenguaje de modelamiento (como JuMP) permite escribir el modelo de opotimización de una forma mas natural, encargandose Julia de transformarlo en el formato _bajo-nivel_ requerido por cada solver.\n",
    "\n",
    "Existen otros lenguajes de modelamiento (como GAMS, AMPL, etc).  Por que JuMP? \n",
    "\n",
    "* Fácil para el usuario\n",
    "* Mejor performance\n",
    "* Independiente de un solver específico\n",
    "* Por ser un lenjuage de programación, facil de extender para hacer cosas mas complicadas.\n",
    "\n",
    "Para más información de JuMP, ver: [JuMP docs](https://jump.readthedocs.io/en/latest/index.html).\n",
    "\n",
    "En esta sesión, veremos JuMP para problemas simples de optimización.\n"
   ]
  },
  {
   "cell_type": "markdown",
   "metadata": {},
   "source": [
    "# Un primer ejemplo\n",
    "Transformemos este modelo de dos variables a JuMP.\n",
    "$$\n",
    "\\begin{align*}\n",
    "\\max_{x,y} \\quad& x + 2y \\\\\n",
    "\\text{s.t.}\\quad& x + y \\leq 1 \\\\\n",
    "& x, y \\geq 0.\n",
    "\\end{align*}\n",
    "$$\n",
    "\n",
    "Primero, cargamos JuMP y un solver (en este caso, Clp)"
   ]
  },
  {
   "cell_type": "code",
   "execution_count": null,
   "metadata": {},
   "outputs": [],
   "source": [
    "using JuMP, Clp"
   ]
  },
  {
   "cell_type": "markdown",
   "metadata": {},
   "source": [
    "Ahora contruimos un _Model_, que contendrá el modelo. con todos sus detalles (restricciones objetivos, variables)."
   ]
  },
  {
   "cell_type": "code",
   "execution_count": null,
   "metadata": {},
   "outputs": [],
   "source": [
    "model = Model(solver=ClpSolver())"
   ]
  },
  {
   "cell_type": "markdown",
   "metadata": {},
   "source": [
    "Ahora definimos dos variables, con la macreo ``@variable``. El primer argumento es el model al cual agregar la variable, el segundo parametro define el nombre y cotas de esta. "
   ]
  },
  {
   "cell_type": "code",
   "execution_count": null,
   "metadata": {},
   "outputs": [],
   "source": [
    "@variable(model, x >= 0)\n",
    "@variable(model, y >= 0)"
   ]
  },
  {
   "cell_type": "code",
   "execution_count": null,
   "metadata": {},
   "outputs": [],
   "source": [
    "model"
   ]
  },
  {
   "cell_type": "markdown",
   "metadata": {},
   "source": [
    "Agregamos una restricción con la macro ``@constraint``. LA escribimos de forma algebraica, tal como en el modelo original. "
   ]
  },
  {
   "cell_type": "code",
   "execution_count": null,
   "metadata": {},
   "outputs": [],
   "source": [
    "@constraint(model, x + y <= 1)\n",
    "model"
   ]
  },
  {
   "cell_type": "markdown",
   "metadata": {},
   "source": [
    "Y el objetico con la macro ``@objective``."
   ]
  },
  {
   "cell_type": "code",
   "execution_count": null,
   "metadata": {},
   "outputs": [],
   "source": [
    "@objective(model, Max, x + 2y)"
   ]
  },
  {
   "cell_type": "code",
   "execution_count": null,
   "metadata": {
    "scrolled": true
   },
   "outputs": [],
   "source": [
    "model"
   ]
  },
  {
   "cell_type": "markdown",
   "metadata": {},
   "source": [
    "Para resolverlo (con el _solver_ CBC), usamos la función ``solve`` aplicada al modelo que queremos resolver."
   ]
  },
  {
   "cell_type": "code",
   "execution_count": null,
   "metadata": {},
   "outputs": [],
   "source": [
    "solve(model)"
   ]
  },
  {
   "cell_type": "markdown",
   "metadata": {},
   "source": [
    "La función retorna el estado del modelo resuelto (en este caso, ``:Optimal``). Ahora podemos ver el valor óptimo de las variables y el objetivo:"
   ]
  },
  {
   "cell_type": "code",
   "execution_count": null,
   "metadata": {},
   "outputs": [],
   "source": [
    "@show getvalue(x)\n",
    "@show getvalue(y)\n",
    "@show getobjectivevalue(model)"
   ]
  },
  {
   "cell_type": "markdown",
   "metadata": {},
   "source": [
    "# Ejercicio\n",
    "\n",
    "Construya y resuelva el siguiente modelo\n",
    "\n",
    "$$\n",
    "\\begin{align*}\n",
    "\\min_{x,y} \\quad& 3x - y \\\\\n",
    "\\text{s.t.}\\quad& x + 2y \\geq 1 \\\\\n",
    "& x \\geq 0 \\\\\n",
    "& 0 \\leq y \\leq 1.\n",
    "\\end{align*}\n",
    "$$"
   ]
  },
  {
   "cell_type": "code",
   "execution_count": null,
   "metadata": {},
   "outputs": [],
   "source": []
  },
  {
   "cell_type": "markdown",
   "metadata": {},
   "source": [
    "# Revenue Management para redes de aviones.\n",
    "\n",
    "<img style=\"max-width:100%; width:500px; height:auto\" src=\"http://i.imgur.com/jeGwWET.png\">\n",
    "\n",
    "En este problema, debemos decidir cuantos tickets vender para cada origen-destino (O-D) a cada precio (en este caso, dos precios, reducido y normal).  El objetivo es maximizar el retorno, y no podemos vender mas tickets que la demanda, o que el número de asientos que tiene el aviob.\n",
    "\n",
    "## Problema con 3 viajes\n",
    "\n",
    "Resolvamos un problema de juguete, con 3 pares origen-destino, y dos clases de precio (normal y reducido). Las tres rutas posibles son BOS-MDW, MDW-SFO, o BOS-SFO via MDW. BOS es Boston, MDW es Chicago-Midway, y SFO es San Francisco. La data para cada ruta es la siguiente:\n",
    "\n",
    "```\n",
    "Capacidad del Avión: 166\n",
    "\n",
    "BOS-MDW\n",
    "        Regular  Descontado\n",
    "Ganancia:  428      190\n",
    "Demanda: 80       120\n",
    "\n",
    "BOS-SFO\n",
    "        Regular  Descontado\n",
    "Ganancia:  642      224\n",
    "Demanda: 75       100\n",
    "\n",
    "MDW-SFO\n",
    "        Regular  Descontado\n",
    "Ganancia:  512      190\n",
    "Demanda: 60       110\n",
    "```"
   ]
  },
  {
   "cell_type": "code",
   "execution_count": null,
   "metadata": {},
   "outputs": [],
   "source": [
    "nrm = Model(solver=ClpSolver())"
   ]
  },
  {
   "cell_type": "code",
   "execution_count": null,
   "metadata": {},
   "outputs": [],
   "source": [
    "@variables(nrm, begin \n",
    "    0 <= BOStoMDW_R <= 80\n",
    "    0 <= BOStoMDW_D <= 120\n",
    "    0 <= BOStoSFO_R <= 75\n",
    "    0 <= BOStoSFO_D <= 100\n",
    "    0 <= MDWtoSFO_R <= 60\n",
    "    0 <= MDWtoSFO_D <= 110\n",
    "end)\n",
    "nrm"
   ]
  },
  {
   "cell_type": "code",
   "execution_count": null,
   "metadata": {},
   "outputs": [],
   "source": [
    "@objective(nrm, Max, 428BOStoMDW_R + 190BOStoMDW_D +\n",
    "                     642BOStoSFO_R + 224BOStoSFO_D +\n",
    "                     512MDWtoSFO_R + 190MDWtoSFO_D)\n",
    "nrm"
   ]
  },
  {
   "cell_type": "code",
   "execution_count": null,
   "metadata": {},
   "outputs": [],
   "source": [
    "@constraint(nrm, BOStoMDW_R + BOStoMDW_D + \n",
    "                 BOStoSFO_R + BOStoSFO_D <= 166)\n",
    "@constraint(nrm, MDWtoSFO_R + MDWtoSFO_D + \n",
    "                 BOStoSFO_R + BOStoSFO_D <= 166)\n",
    "nrm"
   ]
  },
  {
   "cell_type": "code",
   "execution_count": null,
   "metadata": {},
   "outputs": [],
   "source": [
    "status = solve(nrm)\n",
    "status  "
   ]
  },
  {
   "cell_type": "code",
   "execution_count": null,
   "metadata": {},
   "outputs": [],
   "source": [
    "@show getvalue(BOStoMDW_R)\n",
    "@show getvalue(BOStoMDW_D)\n",
    "@show getobjectivevalue(nrm)"
   ]
  },
  {
   "cell_type": "markdown",
   "metadata": {},
   "source": [
    "Podemos agregar mas aeropuertos, pero hagasmolo de forma inteligente."
   ]
  },
  {
   "cell_type": "markdown",
   "metadata": {},
   "source": [
    "## Conjuntos de variables y sumas en JuMP"
   ]
  },
  {
   "cell_type": "markdown",
   "metadata": {},
   "source": [
    "Construyamos ahora un _conjunto_ de variables. Es decir, una variable ``x`` pero que está indexada, por ejempplo, de  1 a 10:"
   ]
  },
  {
   "cell_type": "code",
   "execution_count": null,
   "metadata": {},
   "outputs": [],
   "source": [
    "m = Model()\n",
    "@variable(m, x[1:10] >= 0)"
   ]
  },
  {
   "cell_type": "markdown",
   "metadata": {},
   "source": [
    "El conjunto de indices es lo que va dentro de los parentesis ``[...]``. Se pueden crear mutiples indices, simplemente separando por coma cada conjunto:\n"
   ]
  },
  {
   "cell_type": "code",
   "execution_count": null,
   "metadata": {},
   "outputs": [],
   "source": [
    "@variable(m, y[1:10,[\"red\",\"blue\"]] <= 1)"
   ]
  },
  {
   "cell_type": "markdown",
   "metadata": {},
   "source": [
    "Para expresiones mas complicadas, podemos nombrar los indices y usarlos en el resto de la definición:\n"
   ]
  },
  {
   "cell_type": "markdown",
   "metadata": {},
   "source": [
    "$$\n",
    "i \\leq z_{ij} \\leq ub_j \\;\\;\\; \\forall i \\in \\{1,...,10\\}, j \\in \\{i+1, ..., 10\\}\n",
    "$$"
   ]
  },
  {
   "cell_type": "code",
   "execution_count": null,
   "metadata": {},
   "outputs": [],
   "source": [
    "ub = rand(10)\n",
    "@variable(m, i <= z[i=1:10,j=(i+1):10] <= ub[j])"
   ]
  },
  {
   "cell_type": "markdown",
   "metadata": {},
   "source": [
    "También podemos poner condiciones lógicas dentro del bloque ``[...]``, separadas por un punto y coma ``;``:"
   ]
  },
  {
   "cell_type": "code",
   "execution_count": null,
   "metadata": {},
   "outputs": [],
   "source": [
    "@variable(m, w[i=1:10, c=[\"red\",\"blue\"]; iseven(i) || c == \"red\"] >= 0)"
   ]
  },
  {
   "cell_type": "markdown",
   "metadata": {},
   "source": [
    "Ahora que ya sabemos usar conjuntos de variables, nos gustaría usarlas en restricciones (posiblemente, también definidas como un conjunto). Para esto, necesitamos expresar sumas de multiples indices, con condiciones. Para eso, usaremos  ``sum(...)``. El primer argumento es lo que se suma, seguido de un ``for`` para expresar los subindices sobre los cuales se suma. Esto puede estar seguido de multiples indices (separados con ``,``) y  condiciones logicas que se escriben despues de ``if``."
   ]
  },
  {
   "cell_type": "markdown",
   "metadata": {},
   "source": [
    "$$ \\sum _{i = 1}^{10} x_i \\leq 1$$"
   ]
  },
  {
   "cell_type": "code",
   "execution_count": null,
   "metadata": {},
   "outputs": [],
   "source": [
    "@constraint(m, sum(x[i] for i in 1:10) <= 1)"
   ]
  },
  {
   "cell_type": "markdown",
   "metadata": {},
   "source": [
    "$$ \n",
    "\\begin{equation}\n",
    "\\sum_{\\substack{i\\in\\{1,...,10\\}\\\\\n",
    "                c\\in\\{\"red\",\"blue\"\\}}}\n",
    "       coef(c) \\cdot y_{ic} = 1\n",
    "\\end{equation}\n",
    "$$"
   ]
  },
  {
   "cell_type": "code",
   "execution_count": null,
   "metadata": {},
   "outputs": [],
   "source": [
    "coef = Dict(\"red\" => 2, \"blue\" => 3)\n",
    "@constraint(m, sum(coef[c]*y[i,c] for i in 1:10, c in [\"red\",\"blue\"]) == 1)"
   ]
  },
  {
   "cell_type": "markdown",
   "metadata": {},
   "source": [
    "$$ \n",
    "\\begin{equation}\n",
    "\\sum_{i = 1}^{10} \\sum_{j = i+1}^{10} \n",
    "       i \\cdot j \\cdot z_{ij} \\leq\n",
    "\\sum_{\\substack{i\\in\\{1,...,10\\},\n",
    "                c\\in\\{\"red\",\"blue\"\\} \\\\\n",
    "                \\text{s.t. } iseven(i) \\text{ or } c = \"red\"}}\n",
    "       i^2 \\cdot w_{ic} \n",
    "\\end{equation}\n",
    "$$"
   ]
  },
  {
   "cell_type": "code",
   "execution_count": null,
   "metadata": {},
   "outputs": [],
   "source": [
    "@constraint(m, sum(i*j*z[i,j] for i in 1:10, j in (i+1):10) <=\n",
    "               sum(i^2*w[i,c] for i in 1:10, c in [\"red\",\"blue\"] if iseven(i) || c == \"red\"))"
   ]
  },
  {
   "cell_type": "markdown",
   "metadata": {},
   "source": [
    "## Extensión a más aeropuertos"
   ]
  },
  {
   "cell_type": "markdown",
   "metadata": {},
   "source": [
    "Volvamos al ejemplo de los aeropuertos, y hagamos una formulación nueva que use esta forma general de definir restricciones. Supondremos una tarifa única. Modificaremos el problema un poco, pensando en que la demanda es en realidad el valor esperado de clientes que llegarán.  Para esto, asumimos uns probabilidad fija $p_v$ de que un cliente compra un pasaje de un vuelo $v$ en un periodo, y un número de períodos $T$. De esa forma:\n",
    "$$ E\\left(Demanda_v\\right) = p_v\\cdot T $$\n",
    "\n",
    "Veamos los datos primero:"
   ]
  },
  {
   "cell_type": "markdown",
   "metadata": {},
   "source": [
    "<img src=\"red.png\" alt=\"Red de Vuelos\" style=\"width: 400px;\"/>\n"
   ]
  },
  {
   "cell_type": "code",
   "execution_count": null,
   "metadata": {},
   "outputs": [],
   "source": [
    "# Veamos los viajes y destinos\n",
    "origenes = [:BOS, :JFK, :ATL, :MDW]\n",
    "destinos = [:SFO, :LAX, :SEA, :MDW]\n",
    "# y los vuelos\n",
    "segmentos = [(:BOS, :MDW), (:JFK, :MDW), (:ATL, :MDW), (:MDW,:SFO), (:MDW,:LAX), (:MDW,:SEA)]\n",
    "\n",
    "# cada vuelo (entre cada origen y destino) tiene una tarifa asociada,\n",
    "# y una probabilidad de que en un \"periodo\" llegue un cliente pidiendo ese vuelo.\n",
    "# anotaremos eso con diccionarios:\n",
    "probab = Dict()\n",
    "revenue = Dict()\n",
    "\n",
    "probab[[(:BOS,:MDW)]] = 0.06  ; revenue[[(:BOS,:MDW)]] = 40;\n",
    "probab[[(:JFK,:MDW)]] = 0.096 ; revenue[[(:JFK,:MDW)]] = 30;\n",
    "probab[[(:ATL,:MDW)]] = 0.046 ; revenue[[(:ATL,:MDW)]] = 30;\n",
    "probab[[(:MDW,:SFO)]] = 0.073 ; revenue[[(:MDW,:SFO)]] = 10;\n",
    "probab[[(:MDW,:LAX)]] = 0.159 ; revenue[[(:MDW,:LAX)]] = 40;\n",
    "probab[[(:MDW,:SEA)]] = 0.067 ; revenue[[(:MDW,:SEA)]] = 10;\n",
    "probab[[(:BOS,:MDW),(:MDW,:SFO)]] = 0.043 ; revenue[[(:BOS,:MDW),(:MDW,:SFO)]] = 190\n",
    "probab[[(:BOS,:MDW),(:MDW,:LAX)]] = 0.019 ; revenue[[(:BOS,:MDW),(:MDW,:LAX)]] = 80\n",
    "probab[[(:BOS,:MDW),(:MDW,:SEA)]] = 0.112 ; revenue[[(:BOS,:MDW),(:MDW,:SEA)]] = 90\n",
    "probab[[(:JFK,:MDW),(:MDW,:SFO)]] = 0.075 ; revenue[[(:JFK,:MDW),(:MDW,:SFO)]] = 70\n",
    "probab[[(:JFK,:MDW),(:MDW,:LAX)]] = 0.031 ; revenue[[(:JFK,:MDW),(:MDW,:LAX)]] = 60\n",
    "probab[[(:JFK,:MDW),(:MDW,:SEA)]] = 0.044 ; revenue[[(:JFK,:MDW),(:MDW,:SEA)]] = 190\n",
    "probab[[(:ATL,:MDW),(:MDW,:SFO)]] = 0.012 ; revenue[[(:ATL,:MDW),(:MDW,:SFO)]] = 65\n",
    "probab[[(:ATL,:MDW),(:MDW,:LAX)]] = 0.021 ; revenue[[(:ATL,:MDW),(:MDW,:LAX)]] = 50\n",
    "probab[[(:ATL,:MDW),(:MDW,:SEA)]] = 0.113 ; revenue[[(:ATL,:MDW),(:MDW,:SEA)]] = 10\n",
    "\n",
    "# Vuelos\n",
    "#vuelos = keys(probab)\n",
    "vuelos = [[(:JFK, :MDW), (:MDW, :SFO)],\n",
    "  [(:ATL, :MDW), (:MDW, :SFO)],\n",
    "  [(:JFK, :MDW)],\n",
    "  [(:BOS, :MDW)],\n",
    "  [(:MDW, :SEA)],\n",
    "  [(:ATL, :MDW), (:MDW, :LAX)],\n",
    "  [(:BOS, :MDW), (:MDW, :LAX)],\n",
    "  [(:MDW, :LAX)],\n",
    "  [(:ATL, :MDW), (:MDW, :SEA)],\n",
    "  [(:BOS, :MDW), (:MDW, :SEA)],\n",
    "  [(:ATL, :MDW)],\n",
    "  [(:JFK, :MDW), (:MDW, :LAX)],\n",
    "  [(:MDW, :SFO)],\n",
    "  [(:JFK, :MDW), (:MDW, :SEA)],\n",
    "  [(:BOS, :MDW), (:MDW, :SFO)]]\n",
    "\n",
    "\n",
    "# finalmente, fijemos la capacidad (20 para cada vuelo) y el numero de periodos T\n",
    "T = 100\n",
    "capac= Dict()\n",
    "for leg in segmentos\n",
    "    capac[leg]=20\n",
    "end\n"
   ]
  },
  {
   "cell_type": "markdown",
   "metadata": {},
   "source": [
    "Ahora hagamos nuestro modelo. Tenemos que tener una variable para vuelo (de origen a fin)"
   ]
  },
  {
   "cell_type": "code",
   "execution_count": null,
   "metadata": {},
   "outputs": [],
   "source": [
    "nrm2 = Model(solver=ClpSolver())\n",
    "\n",
    "@variable(nrm2, 0 <= x[v=vuelos] <= probab[v]*T)\n",
    "nrm2"
   ]
  },
  {
   "cell_type": "markdown",
   "metadata": {},
   "source": [
    "El objetivo es maximizar el revenue total, sobre todos los vuelos"
   ]
  },
  {
   "cell_type": "code",
   "execution_count": null,
   "metadata": {},
   "outputs": [],
   "source": [
    "@objective(nrm2, Max, sum(revenue[v]*x[v] for v in vuelos))\n",
    "nrm2"
   ]
  },
  {
   "cell_type": "markdown",
   "metadata": {},
   "source": [
    "### Ejercicio:\n",
    "agregue la restricción de que no podemos sobrepasar la capacidad de los aviones en cada segmento."
   ]
  },
  {
   "cell_type": "code",
   "execution_count": null,
   "metadata": {},
   "outputs": [],
   "source": [
    "@defConstrRef legCapConstr[segmentos]\n",
    "for leg in segmentos\n",
    "        legCapConstr[leg] = ### COMPLETAR ACA LA RESTRICCIÓN\n",
    "    end\n",
    "nrm2"
   ]
  },
  {
   "cell_type": "markdown",
   "metadata": {},
   "source": [
    "y resolvemos el problema"
   ]
  },
  {
   "cell_type": "code",
   "execution_count": null,
   "metadata": {
    "scrolled": false
   },
   "outputs": [],
   "source": [
    "# Now solve the model\n",
    "solve(nrm2)\n",
    "@show getvalue(x)\n",
    "@show getobjectivevalue(nrm2)"
   ]
  },
  {
   "cell_type": "markdown",
   "metadata": {},
   "source": [
    "Lo importante de este problema no son tanto los asientos reservados para cada tramo, sino los *duales* de las restricciones de capacidad.  Estos me reflejan cual es el costo marginal de cada tramo.\n",
    "\n",
    "Para recuperar los duales, usamos la funcion ``getDual``"
   ]
  },
  {
   "cell_type": "code",
   "execution_count": null,
   "metadata": {},
   "outputs": [],
   "source": [
    "d = getdual(legCapConstr)"
   ]
  },
  {
   "cell_type": "code",
   "execution_count": null,
   "metadata": {},
   "outputs": [],
   "source": []
  },
  {
   "cell_type": "markdown",
   "metadata": {},
   "source": [
    "## Ejercicio:\n",
    "Transformemos lo anterior en una función, que recibe la capacidad de cada tramo ``capac`` y el número de periodos ``T`` y calcula este óptimo, retornando los duales para cada tramo "
   ]
  },
  {
   "cell_type": "code",
   "execution_count": null,
   "metadata": {},
   "outputs": [],
   "source": [
    "function NRM(capac,T)\n",
    "    ## Complete la función.\n",
    "    return getdual(legCapConstr)\n",
    "end"
   ]
  },
  {
   "cell_type": "code",
   "execution_count": null,
   "metadata": {},
   "outputs": [],
   "source": [
    "NRM(capac,100)"
   ]
  },
  {
   "cell_type": "markdown",
   "metadata": {},
   "source": [
    "# Online Network Revenue Management\n",
    "En la realidad, este problema es \"online\". En cada período, un pasajero llega, y busca un vuelo. ¿Le ofrecemos el pasaje o no?\n",
    "- Si le aceptamos el pasaje, tendremos el revenue de ese pasaje, pero perdimos capacidad para un pasajero.\n",
    "- Si lo rechazamos, guardamos la capacidad, pero perdimos el revenue de ese cliente."
   ]
  },
  {
   "cell_type": "markdown",
   "metadata": {},
   "source": [
    "Lo mas sencillo que podemos hacer es una regla glotona. Cada vez que llega un pasajero, lo aceptamos si hay capacidad en los vuelos que quiere. ¿Que sucedería? Supongamos que simulamos 100 dias... "
   ]
  },
  {
   "cell_type": "code",
   "execution_count": null,
   "metadata": {},
   "outputs": [],
   "source": [
    "capacidad_original = Dict()\n",
    "for leg in segmentos\n",
    "    capacidad_original[leg] = 20\n",
    "end\n",
    "\n",
    "capacidad_actual = capacidad_original;\n",
    "revenue_total = 0\n",
    "for t in 1:100\n",
    "    for v in vuelos\n",
    "        if (rand() < probab[v])\n",
    "            # El pasajero quiere tomar el vuelo! Veamos si hay capacidad\n",
    "            hay_capacidad = true\n",
    "            for leg in v\n",
    "                if capacidad_actual[leg] == 0\n",
    "                    hay_capacidad = false\n",
    "                end\n",
    "            end\n",
    "            if hay_capacidad\n",
    "                # Hay capacidad obtenemos su revenue y descontamos 1 asiento de cada segmento\n",
    "                revenue_total += revenue[v]\n",
    "                for leg in v\n",
    "                    capacidad_actual[leg] -= 1\n",
    "                end\n",
    "            end\n",
    "        end\n",
    "    end\n",
    "end\n",
    "println(\"Revenue total = $revenue_total\")\n",
    "capacidad_actual\n"
   ]
  },
  {
   "cell_type": "markdown",
   "metadata": {},
   "source": [
    "## Ejercicio:  \n",
    "Repita lo anterior 1000 veces, y plotee la densidad (`Geom.density` en ``Gadfly``) del revenue que obtendría."
   ]
  },
  {
   "cell_type": "code",
   "execution_count": null,
   "metadata": {},
   "outputs": [],
   "source": []
  },
  {
   "cell_type": "code",
   "execution_count": null,
   "metadata": {},
   "outputs": [],
   "source": []
  },
  {
   "cell_type": "markdown",
   "metadata": {},
   "source": [
    "## Bid-price \n",
    "Esta regla dice que aceptamos un pasaje solamente si el revenue que entrega es mayor que el costo marginal de los tramos que ocupa. "
   ]
  },
  {
   "cell_type": "markdown",
   "metadata": {},
   "source": [
    "### Ejercicio:\n",
    "Modifique la simulación anterior, para usar la función que creamos antes que entrega los duales, y usar el criterio del _Bid-price_ para decidir si vender un asiento o no.  ¿Es mejor este criterio que el glotón?"
   ]
  },
  {
   "cell_type": "code",
   "execution_count": null,
   "metadata": {},
   "outputs": [],
   "source": []
  },
  {
   "cell_type": "code",
   "execution_count": null,
   "metadata": {},
   "outputs": [],
   "source": []
  }
 ],
 "metadata": {
  "anaconda-cloud": {},
  "kernelspec": {
   "display_name": "Julia 0.6.2",
   "language": "julia",
   "name": "julia-0.6"
  },
  "language_info": {
   "file_extension": ".jl",
   "mimetype": "application/julia",
   "name": "julia",
   "version": "0.6.2"
  }
 },
 "nbformat": 4,
 "nbformat_minor": 2
}
