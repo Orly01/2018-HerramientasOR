{
 "cells": [
  {
   "cell_type": "markdown",
   "metadata": {},
   "source": [
    "# Peleando con los datos\n",
    "\n",
    "El objetivo de este modulo es aprender a cargar datos, limpiarlos, y manipularlos. Para esto, usaremos dos archivos (\"stations.csv\" y \"trips.csv\") que corresponden a datos de una empresa de arriendo de bicicletas (como BikeSantiago). Los datos tiene las estaciones y los viajes registrados entre el 2011 y el 2012 (+ de 550.000 viajes!)\n",
    "\n",
    "Para esto, usaremos el paquete `Dataframes`"
   ]
  },
  {
   "cell_type": "code",
   "execution_count": null,
   "metadata": {},
   "outputs": [],
   "source": [
    "using DataFrames\n",
    "using CSV"
   ]
  },
  {
   "cell_type": "markdown",
   "metadata": {},
   "source": [
    "Primero cargamos los datos (Ojo, los datos vienen con un registro \"NA\" para aquellos que no son validos):"
   ]
  },
  {
   "cell_type": "code",
   "execution_count": null,
   "metadata": {},
   "outputs": [],
   "source": [
    "dataStations = CSV.read(\"stations.csv\",missingstring=\"NA\")"
   ]
  },
  {
   "cell_type": "code",
   "execution_count": null,
   "metadata": {
    "scrolled": true
   },
   "outputs": [],
   "source": [
    "#dataTrips = CSV.read(\"trips.csv\",missingstring=\"NA\",rows_for_type_detect=100000,dateformat=\"yyyy-mm-dd HH:MM:SS-ss\")\n",
    "dataTrips = CSV.read(\"trips_new.csv\",rows_for_type_detect=100000)"
   ]
  },
  {
   "cell_type": "markdown",
   "metadata": {},
   "source": [
    "Con esto, podemos pedirle que nos describa los datos, utilizando el comando `describe`:"
   ]
  },
  {
   "cell_type": "code",
   "execution_count": null,
   "metadata": {},
   "outputs": [],
   "source": [
    "describe(dataStations)"
   ]
  },
  {
   "cell_type": "code",
   "execution_count": null,
   "metadata": {},
   "outputs": [],
   "source": [
    "describe(dataTrips, stats=:all)"
   ]
  },
  {
   "cell_type": "markdown",
   "metadata": {},
   "source": [
    "Podemos ver el numero de registros del DataFrame"
   ]
  },
  {
   "cell_type": "code",
   "execution_count": null,
   "metadata": {},
   "outputs": [],
   "source": [
    "nrow(dataTrips)"
   ]
  },
  {
   "cell_type": "markdown",
   "metadata": {},
   "source": [
    "O pedir una columna en específica"
   ]
  },
  {
   "cell_type": "code",
   "execution_count": null,
   "metadata": {},
   "outputs": [],
   "source": [
    "dataTrips[:zip_code]"
   ]
  },
  {
   "cell_type": "markdown",
   "metadata": {},
   "source": [
    "También podemos pedir un subconjunto de elementos, como si fuera una matriz. Por ejemplo, las 10 primeras filas."
   ]
  },
  {
   "cell_type": "code",
   "execution_count": null,
   "metadata": {},
   "outputs": [],
   "source": [
    "dataTrips[1:10,:]"
   ]
  },
  {
   "cell_type": "markdown",
   "metadata": {},
   "source": [
    "O las filas que cumplen con una condición. Por ejemplo, los viajes de la bicicleta B00468."
   ]
  },
  {
   "cell_type": "code",
   "execution_count": null,
   "metadata": {},
   "outputs": [],
   "source": [
    "dataTrips[dataTrips[:bike_nr] .== \"B00468\", :]"
   ]
  },
  {
   "cell_type": "markdown",
   "metadata": {},
   "source": [
    "Ahora, transformemos las duraciones (que están en segundos) en minutos."
   ]
  },
  {
   "cell_type": "code",
   "execution_count": null,
   "metadata": {},
   "outputs": [],
   "source": [
    "dataTrips[:duration] = map(x -> x/60, dataTrips[:duration])"
   ]
  },
  {
   "cell_type": "code",
   "execution_count": null,
   "metadata": {},
   "outputs": [],
   "source": [
    "describe(dataTrips, stats=:all)"
   ]
  },
  {
   "cell_type": "code",
   "execution_count": null,
   "metadata": {},
   "outputs": [],
   "source": [
    "nrow(dataTrips)"
   ]
  },
  {
   "cell_type": "markdown",
   "metadata": {},
   "source": [
    "Fijemonos que tenemos varias columnas con datos faltantes.  Algunos no son graves (*zip_code*, *birth_date*) pero otros pueden ser errores (*start_station* y *end_station*).  Podemos eliminar las final con datos faltantes `missing` usnado las manipulaciones anteriores."
   ]
  },
  {
   "cell_type": "markdown",
   "metadata": {},
   "source": [
    "Por ejemplo, podemos ver si un dato es `missing` o no, con el comando `ismissing()`.  Esto hay que aplicarlo sobre ***CADA*** registro de la columna (`broadcast`), y con eso podemos filtrar los datos que queremos."
   ]
  },
  {
   "cell_type": "code",
   "execution_count": null,
   "metadata": {},
   "outputs": [],
   "source": [
    "ismissing.(dataTrips[:start_station])"
   ]
  },
  {
   "cell_type": "code",
   "execution_count": null,
   "metadata": {
    "scrolled": true
   },
   "outputs": [],
   "source": [
    "finalData = dataTrips[!ismissing.(dataTrips[:start_station]) & !ismissing.(dataTrips[:end_station]),:]\n"
   ]
  },
  {
   "cell_type": "code",
   "execution_count": null,
   "metadata": {},
   "outputs": [],
   "source": [
    "nrow(finalData)"
   ]
  },
  {
   "cell_type": "markdown",
   "metadata": {},
   "source": [
    "Grafiquemos las duraciones. Para eso, usaremos el paquete `Gadfly`, que estudiaremos con mas detalle en el siguiente módulo."
   ]
  },
  {
   "cell_type": "code",
   "execution_count": null,
   "metadata": {},
   "outputs": [],
   "source": [
    "using Gadfly"
   ]
  },
  {
   "cell_type": "code",
   "execution_count": null,
   "metadata": {},
   "outputs": [],
   "source": [
    "plot(finalData, x=:duration, Geom.histogram(bincount=20))"
   ]
  },
  {
   "cell_type": "markdown",
   "metadata": {},
   "source": [
    "¿Que pasó?  Hay outliers en los datos... Limitemonos entonces a aquellos datos con duraciones menores a 1 dia."
   ]
  },
  {
   "cell_type": "code",
   "execution_count": null,
   "metadata": {},
   "outputs": [],
   "source": [
    "plot(finalData[finalData[:duration].< 24*60,:],x=:duration, Geom.histogram(bincount=100))"
   ]
  },
  {
   "cell_type": "markdown",
   "metadata": {},
   "source": [
    "Mas razonable. Actualicemos los datos solo a aquellos viajes que duran menos de 24 horas."
   ]
  },
  {
   "cell_type": "code",
   "execution_count": null,
   "metadata": {},
   "outputs": [],
   "source": [
    "finalData = finalData[finalData[:duration] .< 24*60,:]"
   ]
  },
  {
   "cell_type": "code",
   "execution_count": null,
   "metadata": {
    "scrolled": true
   },
   "outputs": [],
   "source": [
    "nrow(finalData)"
   ]
  },
  {
   "cell_type": "markdown",
   "metadata": {},
   "source": [
    "Usemos las fechas. Estas pertenecen al tipo `DateTime`, por lo que podemos hacerles preguntas a ese registro, como el día de la semana de cada fecha, o el mes, etc.   <br>\n",
    "\n",
    "Partamos analizando las fechas en que se realizan los viajes, y los dias de semana que corresponden."
   ]
  },
  {
   "cell_type": "code",
   "execution_count": null,
   "metadata": {},
   "outputs": [],
   "source": [
    "date = map(df -> Dates.Date(df),finalData[:start_date])"
   ]
  },
  {
   "cell_type": "code",
   "execution_count": null,
   "metadata": {},
   "outputs": [],
   "source": [
    "plot(finalData, x=:start_station, Geom.histogram)"
   ]
  },
  {
   "cell_type": "code",
   "execution_count": null,
   "metadata": {},
   "outputs": [],
   "source": [
    "plot(x=map(x -> Dates.dayname(x),finalData[:start_date]), Geom.histogram)"
   ]
  },
  {
   "cell_type": "markdown",
   "metadata": {},
   "source": [
    "# Analizando los datos. \n",
    "Ok, tenemos los datos ya limpios. Esto es generlamente muy tedioso, pero vimos que tenemos herramientas para poder hacerlo de forma un poco mas sencilla. <br>\n",
    "Ahora queremos empezar a hacer algunos análisis. Para esto, utilizaremos algunas funciones propias de los `Dataframes`:\n",
    "\n",
    "## by\n",
    "`by` nos permite analizar un dataframe, bajo el paradigma Split-Apply-Combine.  Este comando usa los parametros:\n",
    "```\n",
    "by(DataFrame,Columna,funcion)\n",
    "```\n",
    "con lo cual, separa (*split*) los datos del `Dataframe` para los distintos valores de `columna`, y a cada grupo de ellos les aplica (*apply*) la función `function`, combinando (*combine*) el resultado en una tabla. \n",
    "\n",
    "`by` es el equivalente de utilizar la secuencia de comandos `combine(map(f, groupby(d, cols)))`"
   ]
  },
  {
   "cell_type": "code",
   "execution_count": null,
   "metadata": {},
   "outputs": [],
   "source": [
    "groupby(finalData,:start_station)"
   ]
  },
  {
   "cell_type": "code",
   "execution_count": null,
   "metadata": {},
   "outputs": [],
   "source": [
    "map(df -> nrow(df),groupby(finalData,:start_station))"
   ]
  },
  {
   "cell_type": "code",
   "execution_count": null,
   "metadata": {},
   "outputs": [],
   "source": [
    "combine(map(df -> nrow(df),groupby(finalData,:start_station)))"
   ]
  },
  {
   "cell_type": "code",
   "execution_count": null,
   "metadata": {},
   "outputs": [],
   "source": [
    "by(finalData,:start_station,nrow)"
   ]
  },
  {
   "cell_type": "markdown",
   "metadata": {},
   "source": [
    "Por ejemplo, podemos querer contar cuantos suscriptores de cada tipo hay. PAra esto, agrupamos los datos por el tipo de suscripción, y cada grupo de ellos los contamos. Es decir:"
   ]
  },
  {
   "cell_type": "code",
   "execution_count": null,
   "metadata": {},
   "outputs": [],
   "source": [
    "by(finalData,:subscription_type,nrow)"
   ]
  },
  {
   "cell_type": "markdown",
   "metadata": {},
   "source": [
    "También podemos aplicar un `by` a un conjiunto de columnas"
   ]
  },
  {
   "cell_type": "code",
   "execution_count": null,
   "metadata": {},
   "outputs": [],
   "source": [
    "by(finalData,[:start_station,:end_station],nrow)"
   ]
  },
  {
   "cell_type": "markdown",
   "metadata": {},
   "source": [
    "**Pregunta**: ¿Cuál es la duración promedio de los viajes para cada tipo de suscriptor?"
   ]
  },
  {
   "cell_type": "code",
   "execution_count": null,
   "metadata": {},
   "outputs": [],
   "source": []
  },
  {
   "cell_type": "markdown",
   "metadata": {},
   "source": [
    "**PREGUNTA 1**: ¿Cual es la duración promedio por género?"
   ]
  },
  {
   "cell_type": "code",
   "execution_count": null,
   "metadata": {},
   "outputs": [],
   "source": []
  },
  {
   "cell_type": "markdown",
   "metadata": {},
   "source": [
    "**PREGUNTA 2**: ¿Cual es la suma de las duraciones por género?"
   ]
  },
  {
   "cell_type": "code",
   "execution_count": null,
   "metadata": {},
   "outputs": [],
   "source": []
  },
  {
   "cell_type": "markdown",
   "metadata": {},
   "source": [
    "**PREGUNTA 3**: ¿Cuál es la duración promedio para cada día de la semana? (usemos la fecha de inicio del viaje)"
   ]
  },
  {
   "cell_type": "code",
   "execution_count": null,
   "metadata": {},
   "outputs": [],
   "source": []
  },
  {
   "cell_type": "markdown",
   "metadata": {},
   "source": [
    "**PREGUNTA 4**: ¿Cuál es la duración promedio para cada mes del año? (usemos la fecha de término del viaje)"
   ]
  },
  {
   "cell_type": "code",
   "execution_count": null,
   "metadata": {
    "scrolled": true
   },
   "outputs": [],
   "source": []
  },
  {
   "cell_type": "markdown",
   "metadata": {},
   "source": [
    "**Pregunta BONUS**: ¿Cuál es la proporción de usuarios `Casual` para cada estación de inicio? Cuales son las estaciones con mayor y menor proporción de usuarios casuales?"
   ]
  },
  {
   "cell_type": "code",
   "execution_count": null,
   "metadata": {},
   "outputs": [],
   "source": []
  },
  {
   "cell_type": "markdown",
   "metadata": {},
   "source": [
    "Supongamos ahora que queremos rescatar los dos días mas utilizados, por cada tipo de usuario, o por estación. Esto requeriría crea una propia función, que nos entregue los dos dias. Pero esto sabemos hacerlo!\n"
   ]
  },
  {
   "cell_type": "code",
   "execution_count": null,
   "metadata": {},
   "outputs": [],
   "source": [
    "finalData[:startDay]=map(x -> Dates.dayname(x),finalData[:start_date])"
   ]
  },
  {
   "cell_type": "code",
   "execution_count": null,
   "metadata": {},
   "outputs": [],
   "source": [
    "sort(by(finalData,:startDay,nrow),:x1,rev=true)[1:2,:startDay]"
   ]
  },
  {
   "cell_type": "code",
   "execution_count": null,
   "metadata": {},
   "outputs": [],
   "source": [
    "function best2days(df)\n",
    "    tmp = sort(by(df,:startDay,nrow),:x1,rev=true)\n",
    "    return tmp[1,:startDay] * \" \" * tmp[2,:startDay]\n",
    "end"
   ]
  },
  {
   "cell_type": "code",
   "execution_count": null,
   "metadata": {},
   "outputs": [],
   "source": [
    "by(finalData,:subscription_type,df -> best2days(df))"
   ]
  },
  {
   "cell_type": "markdown",
   "metadata": {},
   "source": [
    "**Ejercicio**: La empresa tiene una tarifa distinta para aquellos viajes que duran mas de media hora.   Por eso, Calcule la proporción de viajes desde cada estación de inicio (*start_station*) que duran mas de 30 minutos. "
   ]
  },
  {
   "cell_type": "code",
   "execution_count": null,
   "metadata": {
    "scrolled": true
   },
   "outputs": [],
   "source": []
  },
  {
   "cell_type": "markdown",
   "metadata": {},
   "source": [
    "**Ejercicio (BONUS):** encuentre el tipo de suscripción más común para cada estación de partida.   "
   ]
  },
  {
   "cell_type": "code",
   "execution_count": null,
   "metadata": {},
   "outputs": [],
   "source": []
  },
  {
   "cell_type": "markdown",
   "metadata": {},
   "source": [
    "**Ejercicio**: Cree un nuevo `DataFrame` de bicicletas, donde cada fila tenga:\n",
    "- El id de cada bicicleta `bike_nr`\n",
    "- la duración promedio de cada bicicleta\n",
    "- la desviación estándar de las duraciones de cada bicicleta\n",
    "- el número de viajes realizados en cada bicicleta\n",
    "\n",
    "Para esto, podemos hacer que el resultado de la función a aplicar sobre cada grupo sea un `Dataframe`, por lo que al combinarlo tendremos el dataframe pedido.   Para definir un DataFrame usamos el comando `DataFrame`:\n",
    "```\n",
    "DataFrame(numeroFilas = nrow(finalData), duracion_promedio = mean(finalData[:duration]))\n",
    "```"
   ]
  },
  {
   "cell_type": "code",
   "execution_count": null,
   "metadata": {},
   "outputs": [],
   "source": []
  },
  {
   "cell_type": "markdown",
   "metadata": {},
   "source": [
    "**Ejercicio (BONUS)**: Incluya las siguientes variables para cada fila:\n",
    "- número de viajes que parten y terminan en un día diferente\n",
    "- estación mas común de inicio de un viaje \n",
    "- estación mas común de término de un viaje"
   ]
  },
  {
   "cell_type": "code",
   "execution_count": null,
   "metadata": {},
   "outputs": [],
   "source": []
  },
  {
   "cell_type": "markdown",
   "metadata": {},
   "source": [
    "# Agrupando datos de diferentes tablas\n",
    "\n",
    "Podemos unir datos de distintas tablas, que nos permitan usar información de ellas. Por ejemplo, si quisieramos aproximar la distancia de cada viaje, podríamos usar la latitud y longitud de las estaciones de inicio.  Esto requeriría \"unir\" (`join`) ambas tablas, en una sola, agregando a la tabla de viajes los datos de la estación de inicio.  Para esto, usamos el comando `join`."
   ]
  },
  {
   "cell_type": "code",
   "execution_count": null,
   "metadata": {},
   "outputs": [],
   "source": [
    "merged = join(finalData,dataStations, on = (:start_station,:id))"
   ]
  },
  {
   "cell_type": "code",
   "execution_count": null,
   "metadata": {},
   "outputs": [],
   "source": [
    "merged = join(merged,dataStations, on = (:end_station,:id))"
   ]
  },
  {
   "cell_type": "markdown",
   "metadata": {},
   "source": [
    "Para calcular la distancia entre dos puntos geo-referenciados, usaremos el paquete `Geodesy` que permite hacer esto:"
   ]
  },
  {
   "cell_type": "code",
   "execution_count": null,
   "metadata": {},
   "outputs": [],
   "source": [
    "using Geodesy"
   ]
  },
  {
   "cell_type": "code",
   "execution_count": null,
   "metadata": {},
   "outputs": [],
   "source": [
    "merged[:geo_dist] = map((lat1,lon1,lat2,lon2) -> distance(LLA(lat1,lon1,0.0),LLA(lat2,lon2,0))/1000.0, merged[:lat],merged[:lng],merged[:lat_1],merged[:lng_1])"
   ]
  },
  {
   "cell_type": "code",
   "execution_count": null,
   "metadata": {},
   "outputs": [],
   "source": [
    "merged"
   ]
  },
  {
   "cell_type": "code",
   "execution_count": null,
   "metadata": {},
   "outputs": [],
   "source": [
    "plot(merged, x=:geo_dist, Geom.histogram)"
   ]
  },
  {
   "cell_type": "markdown",
   "metadata": {},
   "source": [
    "# Ejercicio Final:\n",
    "Hubway cobra basado en la duración del viaje. Usuarios *Casual* pagan `$0` si el viaje dura menos de 30 minutos, `$2` si dura entre 30 y 60 minutos, y `$6` para viajes entre 60 a 90 minutos Por cada 30 minutos adicioanles, se cobran `$8` adicionales, con un máximo de `$100`.   Un usuario *Registered* para el 75\\% de la tarifa solamente (con un máximo de `$75`, por lo tanto). \n",
    "\n",
    "**Ejercicio**: Agregue una columna fee que indique cuanto se cobró en cada viaje."
   ]
  },
  {
   "cell_type": "code",
   "execution_count": null,
   "metadata": {},
   "outputs": [],
   "source": []
  }
 ],
 "metadata": {
  "kernelspec": {
   "display_name": "Julia 0.6.2",
   "language": "julia",
   "name": "julia-0.6"
  },
  "language_info": {
   "file_extension": ".jl",
   "mimetype": "application/julia",
   "name": "julia",
   "version": "0.6.2"
  }
 },
 "nbformat": 4,
 "nbformat_minor": 2
}
